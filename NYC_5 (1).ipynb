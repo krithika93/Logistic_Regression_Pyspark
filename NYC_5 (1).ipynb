{
 "cells": [
  {
   "cell_type": "code",
   "execution_count": 1,
   "metadata": {},
   "outputs": [
    {
     "data": {
      "application/vnd.jupyter.widget-view+json": {
       "model_id": "278fadae928e40e4921ee3c8ce9b3e0a",
       "version_major": 2,
       "version_minor": 0
      },
      "text/plain": [
       "VBox()"
      ]
     },
     "metadata": {},
     "output_type": "display_data"
    },
    {
     "name": "stdout",
     "output_type": "stream",
     "text": [
      "Starting Spark application\n"
     ]
    },
    {
     "data": {
      "text/html": [
       "<table>\n",
       "<tr><th>ID</th><th>YARN Application ID</th><th>Kind</th><th>State</th><th>Spark UI</th><th>Driver log</th><th>Current session?</th></tr><tr><td>4</td><td>application_1571837672077_0005</td><td>pyspark</td><td>idle</td><td><a target=\"_blank\" href=\"http://ip-172-31-15-127.us-east-2.compute.internal:20888/proxy/application_1571837672077_0005/\">Link</a></td><td><a target=\"_blank\" href=\"http://ip-172-31-15-127.us-east-2.compute.internal:8042/node/containerlogs/container_1571837672077_0005_01_000001/livy\">Link</a></td><td>✔</td></tr></table>"
      ],
      "text/plain": [
       "<IPython.core.display.HTML object>"
      ]
     },
     "metadata": {},
     "output_type": "display_data"
    },
    {
     "data": {
      "application/vnd.jupyter.widget-view+json": {
       "model_id": "",
       "version_major": 2,
       "version_minor": 0
      },
      "text/plain": [
       "FloatProgress(value=0.0, bar_style='info', description='Progress:', layout=Layout(height='25px', width='50%'),…"
      ]
     },
     "metadata": {},
     "output_type": "display_data"
    },
    {
     "name": "stdout",
     "output_type": "stream",
     "text": [
      "SparkSession available as 'spark'.\n"
     ]
    },
    {
     "data": {
      "application/vnd.jupyter.widget-view+json": {
       "model_id": "",
       "version_major": 2,
       "version_minor": 0
      },
      "text/plain": [
       "FloatProgress(value=0.0, bar_style='info', description='Progress:', layout=Layout(height='25px', width='50%'),…"
      ]
     },
     "metadata": {},
     "output_type": "display_data"
    }
   ],
   "source": [
    "import pyspark"
   ]
  },
  {
   "cell_type": "code",
   "execution_count": 2,
   "metadata": {
    "scrolled": true
   },
   "outputs": [
    {
     "data": {
      "application/vnd.jupyter.widget-view+json": {
       "model_id": "d36e360e6254439ca1fdcc040a8b3c5a",
       "version_major": 2,
       "version_minor": 0
      },
      "text/plain": [
       "VBox()"
      ]
     },
     "metadata": {},
     "output_type": "display_data"
    },
    {
     "data": {
      "application/vnd.jupyter.widget-view+json": {
       "model_id": "",
       "version_major": 2,
       "version_minor": 0
      },
      "text/plain": [
       "FloatProgress(value=0.0, bar_style='info', description='Progress:', layout=Layout(height='25px', width='50%'),…"
      ]
     },
     "metadata": {},
     "output_type": "display_data"
    },
    {
     "name": "stdout",
     "output_type": "stream",
     "text": [
      "+---------+---------+-------------------+-------------------+---------------+-------------------+------------------+-------------------+------------------+------------------+-------------+\n",
      "|       id|vendor_id|    pickup_datetime|   dropoff_datetime|passenger_count|   pickup_longitude|   pickup_latitude|  dropoff_longitude|  dropoff_latitude|store_and_fwd_flag|trip_duration|\n",
      "+---------+---------+-------------------+-------------------+---------------+-------------------+------------------+-------------------+------------------+------------------+-------------+\n",
      "|id2875421|        2|2016-03-14 17:24:55|2016-03-14 17:32:30|              1|-73.982154846191406|40.767936706542969|-73.964630126953125|40.765602111816406|                 N|          455|\n",
      "|id2377394|        1|2016-06-12 00:43:35|2016-06-12 00:54:38|              1|-73.980415344238281|40.738563537597656|-73.999481201171875|40.731151580810547|                 N|          663|\n",
      "|id3858529|        2|2016-01-19 11:35:24|2016-01-19 12:10:48|              1|-73.979026794433594|40.763938903808594|-74.005332946777344|40.710086822509766|                 N|         2124|\n",
      "|id3504673|        2|2016-04-06 19:32:31|2016-04-06 19:39:40|              1|-74.010040283203125|   40.719970703125| -74.01226806640625|40.706718444824219|                 N|          429|\n",
      "|id2181028|        2|2016-03-26 13:30:55|2016-03-26 13:38:10|              1|-73.973052978515625|40.793209075927734|-73.972923278808594|40.782520294189453|                 N|          435|\n",
      "|id0801584|        2|2016-01-30 22:01:40|2016-01-30 22:09:03|              6|-73.982856750488281|40.742195129394531|-73.992080688476562|40.749183654785156|                 N|          443|\n",
      "|id1813257|        1|2016-06-17 22:34:59|2016-06-17 22:40:40|              4|-73.969017028808594|40.757839202880859|-73.957405090332031|40.765895843505859|                 N|          341|\n",
      "|id1324603|        2|2016-05-21 07:54:58|2016-05-21 08:20:49|              1|-73.969276428222656|40.797779083251953|-73.922470092773438| 40.76055908203125|                 N|         1551|\n",
      "|id1301050|        1|2016-05-27 23:12:23|2016-05-27 23:16:38|              1|-73.999481201171875|40.738399505615234|-73.985786437988281|40.732814788818359|                 N|          255|\n",
      "|id0012891|        2|2016-03-10 21:45:01|2016-03-10 22:05:26|              1|-73.981048583984375|40.744338989257813|-73.972999572753906|40.789989471435547|                 N|         1225|\n",
      "|id1436371|        2|2016-05-10 22:08:41|2016-05-10 22:29:55|              1|-73.982650756835938|40.763839721679688|-74.002227783203125|40.732990264892578|                 N|         1274|\n",
      "|id1299289|        2|2016-05-15 11:16:11|2016-05-15 11:34:59|              4|-73.991531372070313|40.749439239501953|    -73.95654296875|  40.7706298828125|                 N|         1128|\n",
      "|id1187965|        2|2016-02-19 09:52:46|2016-02-19 10:11:20|              2|-73.962982177734375|40.756679534912109|-73.984405517578125|40.760719299316406|                 N|         1114|\n",
      "|id0799785|        2|2016-06-01 20:58:29|2016-06-01 21:02:49|              1|-73.956306457519531|40.767940521240234|-73.966110229492188| 40.76300048828125|                 N|          260|\n",
      "|id2900608|        2|2016-05-27 00:43:36|2016-05-27 01:07:10|              1|-73.992195129394531|40.727226257324219|-73.974655151367188|40.783069610595703|                 N|         1414|\n",
      "|id3319787|        1|2016-05-16 15:29:02|2016-05-16 15:32:33|              1|-73.955513000488281|40.768592834472656|-73.948760986328125| 40.77154541015625|                 N|          211|\n",
      "|id3379579|        2|2016-04-11 17:29:50|2016-04-11 18:08:26|              1|-73.991165161132813|40.755561828613281|-73.999290466308594|40.725353240966797|                 N|         2316|\n",
      "|id1154431|        1|2016-04-14 08:48:26|2016-04-14 09:00:37|              1|-73.994255065917969|40.745803833007813|-73.999656677246094|40.723342895507813|                 N|          731|\n",
      "|id3552682|        1|2016-06-27 09:55:13|2016-06-27 10:17:10|              1|-74.003982543945313|  40.7130126953125|-73.979194641113281|40.749923706054688|                 N|         1317|\n",
      "|id3390316|        2|2016-06-05 13:47:23|2016-06-05 13:51:34|              1|    -73.98388671875|40.738197326660156|-73.991203308105469|40.727870941162109|                 N|          251|\n",
      "+---------+---------+-------------------+-------------------+---------------+-------------------+------------------+-------------------+------------------+------------------+-------------+\n",
      "only showing top 20 rows"
     ]
    }
   ],
   "source": [
    "input_bucket = 's3://nyctaxi5/'\n",
    "input_path = 'train.csv'\n",
    "test_path = 'test.csv'\n",
    "trainingData = spark.read.format(\"csv\").option(\"header\", \"true\").load(input_bucket+input_path)\n",
    "#testData = spark.read.format(\"csv\").option(\"header\", \"true\").load(input_bucket+test_path)\n",
    "trainingData.show()\n",
    "#"
   ]
  },
  {
   "cell_type": "code",
   "execution_count": 3,
   "metadata": {},
   "outputs": [
    {
     "data": {
      "application/vnd.jupyter.widget-view+json": {
       "model_id": "7154b12fc5f64b82a3d40ef2aa482a1e",
       "version_major": 2,
       "version_minor": 0
      },
      "text/plain": [
       "VBox()"
      ]
     },
     "metadata": {},
     "output_type": "display_data"
    },
    {
     "data": {
      "application/vnd.jupyter.widget-view+json": {
       "model_id": "",
       "version_major": 2,
       "version_minor": 0
      },
      "text/plain": [
       "FloatProgress(value=0.0, bar_style='info', description='Progress:', layout=Layout(height='25px', width='50%'),…"
      ]
     },
     "metadata": {},
     "output_type": "display_data"
    }
   ],
   "source": [
    "\n",
    "trainingData = trainingData.drop(\"pickup_latitude\",\"dropoff_latitude\",\"pickup_datetime\",\"dropoff_datetime\",\"store_and_fwd_flag\") #since latitude does not contribute to the duration like longitude\n",
    "\n",
    "#testData = testData.drop(\"pickup_latitude\",\"dropoff_latitude\",\"pickup_datetime\",\"dropoff_datetime\",\"store_and_fwd_flag\",\"trip_duration\") #since latitude does not contribute to the duration like longitude"
   ]
  },
  {
   "cell_type": "code",
   "execution_count": 4,
   "metadata": {},
   "outputs": [
    {
     "data": {
      "application/vnd.jupyter.widget-view+json": {
       "model_id": "7279c78744be4358aeba9060e12e8454",
       "version_major": 2,
       "version_minor": 0
      },
      "text/plain": [
       "VBox()"
      ]
     },
     "metadata": {},
     "output_type": "display_data"
    },
    {
     "data": {
      "application/vnd.jupyter.widget-view+json": {
       "model_id": "",
       "version_major": 2,
       "version_minor": 0
      },
      "text/plain": [
       "FloatProgress(value=0.0, bar_style='info', description='Progress:', layout=Layout(height='25px', width='50%'),…"
      ]
     },
     "metadata": {},
     "output_type": "display_data"
    },
    {
     "name": "stdout",
     "output_type": "stream",
     "text": [
      "['id', 'vendor_id', 'passenger_count', 'pickup_longitude', 'dropoff_longitude', 'trip_duration']"
     ]
    }
   ],
   "source": [
    "print(trainingData.columns)\n",
    "#print(testData.columns)"
   ]
  },
  {
   "cell_type": "code",
   "execution_count": null,
   "metadata": {},
   "outputs": [],
   "source": [
    "MLlib classifiers and regressors require data sets in a format of rows of type LabeledPoint, which separates row labels and feature lists, and names them accordingly. "
   ]
  },
  {
   "cell_type": "code",
   "execution_count": 5,
   "metadata": {},
   "outputs": [
    {
     "data": {
      "application/vnd.jupyter.widget-view+json": {
       "model_id": "23acb84ea8de4bea9d0bc7c73f6c2e18",
       "version_major": 2,
       "version_minor": 0
      },
      "text/plain": [
       "VBox()"
      ]
     },
     "metadata": {},
     "output_type": "display_data"
    },
    {
     "data": {
      "application/vnd.jupyter.widget-view+json": {
       "model_id": "",
       "version_major": 2,
       "version_minor": 0
      },
      "text/plain": [
       "FloatProgress(value=0.0, bar_style='info', description='Progress:', layout=Layout(height='25px', width='50%'),…"
      ]
     },
     "metadata": {},
     "output_type": "display_data"
    }
   ],
   "source": [
    "from pyspark.mllib.linalg import Vectors\n",
    "from pyspark.mllib.regression import LabeledPoint\n",
    "from pyspark.mllib.tree import DecisionTree, DecisionTreeModel\n",
    "from pyspark.mllib.util import MLUtils"
   ]
  },
  {
   "cell_type": "code",
   "execution_count": 6,
   "metadata": {},
   "outputs": [
    {
     "data": {
      "application/vnd.jupyter.widget-view+json": {
       "model_id": "865a35ca2b8240679a4289c304222f41",
       "version_major": 2,
       "version_minor": 0
      },
      "text/plain": [
       "VBox()"
      ]
     },
     "metadata": {},
     "output_type": "display_data"
    },
    {
     "data": {
      "application/vnd.jupyter.widget-view+json": {
       "model_id": "",
       "version_major": 2,
       "version_minor": 0
      },
      "text/plain": [
       "FloatProgress(value=0.0, bar_style='info', description='Progress:', layout=Layout(height='25px', width='50%'),…"
      ]
     },
     "metadata": {},
     "output_type": "display_data"
    },
    {
     "name": "stdout",
     "output_type": "stream",
     "text": [
      "[LabeledPoint(455.0, [2875421.0,2.0,1.0,-73.9821548461914,-73.96463012695312]), LabeledPoint(663.0, [2377394.0,1.0,1.0,-73.98041534423828,-73.99948120117188]), LabeledPoint(2124.0, [3858529.0,2.0,1.0,-73.9790267944336,-74.00533294677734]), LabeledPoint(429.0, [3504673.0,2.0,1.0,-74.01004028320312,-74.01226806640625])]"
     ]
    }
   ],
   "source": [
    "#rdd = df.rdd.map(list)\n",
    "from pyspark.sql.types import StringType\n",
    "from pyspark.sql.types import DoubleType\n",
    "from pyspark.sql.functions import udf\n",
    "from pyspark.sql.functions import lit,unix_timestamp\n",
    "addString = udf(lambda x: x[2:] , StringType())\n",
    "\n",
    "trainingData=trainingData.withColumn(\"id\",addString(trainingData[\"id\"]))\n",
    "#test_df=test_df.withColumn(\"id\",addString(test_df[\"id\"]))\n",
    "#df = df.withColumn('pickup_datetime',unix_timestamp(df[\"pickup_datetime\"],'yyyy-MM-dd HH:mm:ss').cast(\"timestamp\"))\n",
    "#df = df.withColumn('dropoff_datetime',unix_timestamp(df[\"dropoff_datetime\"],'yyyy-MM-dd HH:mm:ss').cast(\"timestamp\"))\n",
    "trainingData = trainingData.withColumn('pickup_longitude',trainingData['pickup_longitude'].cast(DoubleType()))\n",
    "trainingData = trainingData.withColumn('dropoff_longitude',trainingData['dropoff_longitude'].cast(DoubleType()))\n",
    "#testData = testData.withColumn('pickup_longitude',test_df['pickup_longitude'].cast(DoubleType()))\n",
    "#testData = testData.withColumn('dropoff_longitude',test_df['dropoff_longitude'].cast(DoubleType()))\n",
    "t_df = trainingData.rdd.map(lambda row: LabeledPoint(row[-1], Vectors.dense(row[:-1])))\n",
    "#testData2 = test_df.rdd.map(lambda row: LabeledPoint(row[-1], Vectors.dense(row[0:-1])))\n",
    "trainingData1, testData1  =t_df.randomSplit([0.8,0.2])\n",
    "t_df.take(4)\n"
   ]
  },
  {
   "cell_type": "code",
   "execution_count": null,
   "metadata": {},
   "outputs": [],
   "source": [
    "I trained the model below with maxDepth = 10 and MaxBins = 6"
   ]
  },
  {
   "cell_type": "code",
   "execution_count": 8,
   "metadata": {},
   "outputs": [
    {
     "data": {
      "application/vnd.jupyter.widget-view+json": {
       "model_id": "95156783e465466cab01fc7f4e9a9753",
       "version_major": 2,
       "version_minor": 0
      },
      "text/plain": [
       "VBox()"
      ]
     },
     "metadata": {},
     "output_type": "display_data"
    },
    {
     "data": {
      "application/vnd.jupyter.widget-view+json": {
       "model_id": "",
       "version_major": 2,
       "version_minor": 0
      },
      "text/plain": [
       "FloatProgress(value=0.0, bar_style='info', description='Progress:', layout=Layout(height='25px', width='50%'),…"
      ]
     },
     "metadata": {},
     "output_type": "display_data"
    }
   ],
   "source": [
    "model = DecisionTree.trainRegressor(trainingData1,categoricalFeaturesInfo={},\n",
    "                                    impurity='variance', maxDepth=10, maxBins=6)"
   ]
  },
  {
   "cell_type": "code",
   "execution_count": 9,
   "metadata": {},
   "outputs": [
    {
     "data": {
      "application/vnd.jupyter.widget-view+json": {
       "model_id": "d89c31d4f1414c028da3fa395c147bc1",
       "version_major": 2,
       "version_minor": 0
      },
      "text/plain": [
       "VBox()"
      ]
     },
     "metadata": {},
     "output_type": "display_data"
    },
    {
     "data": {
      "application/vnd.jupyter.widget-view+json": {
       "model_id": "",
       "version_major": 2,
       "version_minor": 0
      },
      "text/plain": [
       "FloatProgress(value=0.0, bar_style='info', description='Progress:', layout=Layout(height='25px', width='50%'),…"
      ]
     },
     "metadata": {},
     "output_type": "display_data"
    },
    {
     "name": "stdout",
     "output_type": "stream",
     "text": [
      "'DecisionTreeModel regressor of depth 10 with 1245 nodes\\n  If (feature 3 <= -73.95919799804688)\\n   If (feature 4 <= -73.95524215698242)\\n    If (feature 1 <= 1.5)\\n     If (feature 3 <= -73.99696731567383)\\n      If (feature 4 <= -73.98733901977539)\\n       If (feature 4 <= -73.99589920043945)\\n        If (feature 2 <= 1.5)\\n         If (feature 0 <= 2668437.0)\\n          If (feature 2 <= 0.5)\\n           If (feature 0 <= 1322089.0)\\n            Predict: 13.0\\n           Else (feature 0 > 1322089.0)\\n            Predict: 2.0\\n          Else (feature 2 > 0.5)\\n           If (feature 0 <= 1322089.0)\\n            Predict: 539.615838150289\\n           Else (feature 0 > 1322089.0)\\n            Predict: 529.4491086831513\\n         Else (feature 0 > 2668437.0)\\n          If (feature 2 <= 0.5)\\n           If (feature 0 <= 3303608.0)\\n            Predict: 68.0\\n           Else (feature 0 > 3303608.0)\\n            Predict: 1121.0\\n          Else (feature 2 > 0.5)\\n           If (feature 0 <= 3303608.0)\\n            Predict: 541.8045948616601\\n           Else (feature 0 > 3303608.0)\\n            Predict: 542.3560232870577\\n        Else (feature 2 > 1.5)\\n         If (feature 2 <= 2.5)\\n          If (feature 0 <= 669424.0)\\n           Predict: 569.8328912466843\\n          Else (feature 0 > 669424.0)\\n           If (feature 0 <= 1322089.0)\\n            Predict: 611.1535326086956\\n           Else (feature 0 > 1322089.0)\\n            Predict: 585.3684752747253\\n         Else (feature 2 > 2.5)\\n          If (feature 0 <= 1994480.0)\\n           If (feature 2 <= 3.5)\\n            Predict: 616.7641996557659\\n           Else (feature 2 > 3.5)\\n            Predict: 635.4479495268139\\n          Else (feature 0 > 1994480.0)\\n           If (feature 0 <= 2668437.0)\\n            Predict: 573.9795321637426\\n           Else (feature 0 > 2668437.0)\\n            Predict: 602.7503924646782\\n       Else (feature 4 > -73.99589920043945)\\n        If (feature 2 <= 1.5)\\n         If (feature 0 <= 669424.0)\\n          Predict: 688.2092518973618\\n         Else (feature 0 > 669424.0)\\n          If (feature 0 <= 2668437.0)\\n           If (feature 0 <= 1322089.0)\\n            Predict: 676.0964912280701\\n           Else (feature 0 > 1322089.0)\\n            Predict: 663.4226201028187\\n          Else (feature 0 > 2668437.0)\\n           If (feature 0 <= 3303608.0)\\n            Predict: 677.3342155009452\\n           Else (feature 0 > 3303608.0)\\n            Predict: 684.5526583135794\\n        Else (feature 2 > 1.5)\\n         If (feature 2 <= 3.5)\\n          If (feature 0 <= 1994480.0)\\n           If (feature 2 <= 2.5)\\n            Predict: 724.298535964354\\n           Else (feature 2 > 2.5)\\n            Predict: 742.6146341463415\\n          Else (feature 0 > 1994480.0)\\n           If (feature 2 <= 2.5)\\n            Predict: 742.8592080452546\\n           Else (feature 2 > 2.5)\\n            Predict: 768.3864628820961\\n         Else (feature 2 > 3.5)\\n          If (feature 0 <= 669424.0)\\n           If (feature 2 <= 4.5)\\n            Predict: 902.6323529411765\\n           Else (feature 2 > 4.5)\\n            Predict: 504.5\\n          Else (feature 0 > 669424.0)\\n           If (feature 0 <= 1322089.0)\\n            Predict: 750.7263157894737\\n           Else (feature 0 > 1322089.0)\\n            Predict: 840.7748538011696\\n      Else (feature 4 > -73.98733901977539)\\n       If (feature 4 <= -73.97102737426758)\\n        If (feature 4 <= -73.97967147827148)\\n         If (feature 2 <= 1.5)\\n          If (feature 0 <= 669424.0)\\n           Predict: 919.7648663393344\\n          Else (feature 0 > 669424.0)\\n           If (feature 0 <= 1994480.0)\\n            Predict: 885.9659845132743\\n           Else (feature 0 > 1994480.0)\\n            Predict: 894.5853658536586\\n         Else (feature 2 > 1.5)\\n          If (feature 2 <= 3.5)\\n           If (feature 2 <= 2.5)\\n            Predict: 943.937734082397\\n           Else (feature 2 > 2.5)\\n            Predict: 976.8805237315876\\n          Else (feature 2 > 3.5)\\n           If (feature 0 <= 2668437.0)\\n            Predict: 1031.5265151515152\\n           Else (feature 0 > 2668437.0)\\n            Predict: 1096.25\\n        Else (feature 4 > -73.97967147827148)\\n         If (feature 2 <= 1.5)\\n          If (feature 0 <= 669424.0)\\n           Predict: 1090.6386946386947\\n          Else (feature 0 > 669424.0)\\n           If (feature 0 <= 2668437.0)\\n            Predict: 1069.1919848361765\\n           Else (feature 0 > 2668437.0)\\n            Predict: 1079.7496087636932\\n         Else (feature 2 > 1.5)\\n          If (feature 2 <= 3.5)\\n           If (feature 0 <= 1994480.0)\\n            Predict: 1149.4743169398907\\n           Else (feature 0 > 1994480.0)\\n            Predict: 1120.0053304904052\\n          Else (feature 2 > 3.5)\\n           If (feature 0 <= 669424.0)\\n            Predict: 1116.173076923077\\n           Else (feature 0 > 669424.0)\\n            Predict: 1222.453125\\n       Else (feature 4 > -73.97102737426758)\\n        If (feature 2 <= 1.5)\\n         If (feature 0 <= 3303608.0)\\n          If (feature 0 <= 1994480.0)\\n           If (feature 0 <= 1322089.0)\\n            Predict: 1345.3639896373056\\n           Else (feature 0 > 1322089.0)\\n            Predict: 1336.621079046424\\n          Else (feature 0 > 1994480.0)\\n           If (feature 0 <= 2668437.0)\\n            Predict: 1288.7776456599286\\n           Else (feature 0 > 2668437.0)\\n            Predict: 1346.5097765363128\\n         Else (feature 0 > 3303608.0)\\n          Predict: 1370.6699029126214\\n        Else (feature 2 > 1.5)\\n         If (feature 2 <= 4.5)\\n          If (feature 2 <= 2.5)\\n           If (feature 0 <= 1322089.0)\\n            Predict: 1373.2469879518073\\n           Else (feature 0 > 1322089.0)\\n            Predict: 1405.6344086021506\\n          Else (feature 2 > 2.5)\\n           If (feature 0 <= 3303608.0)\\n            Predict: 1340.9662921348315\\n           Else (feature 0 > 3303608.0)\\n            Predict: 1427.5084745762713\\n         Else (feature 2 > 4.5)\\n          If (feature 0 <= 1322089.0)\\n           Predict: 1845.6666666666667\\n          Else (feature 0 > 1322089.0)\\n           Predict: 1214.0\\n     Else (feature 3 > -73.99696731567383)\\n      If (feature 4 <= -73.99589920043945)\\n       If (feature 3 <= -73.9818229675293)\\n        If (feature 3 <= -73.9886360168457)\\n         If (feature 2 <= 1.5)\\n          If (feature 0 <= 1994480.0)\\n           If (feature 0 <= 1322089.0)\\n            Predict: 645.6973558458108\\n           Else (feature 0 > 1322089.0)\\n            Predict: 650.6652386780905\\n          Else (feature 0 > 1994480.0)\\n           If (feature 0 <= 3303608.0)\\n            Predict: 631.489858834983\\n           Else (feature 0 > 3303608.0)\\n            Predict: 640.7287874112928\\n         Else (feature 2 > 1.5)\\n          If (feature 2 <= 2.5)\\n           If (feature 0 <= 1322089.0)\\n            Predict: 693.3785578747628\\n           Else (feature 0 > 1322089.0)\\n            Predict: 710.5176243360695\\n          Else (feature 2 > 2.5)\\n           If (feature 0 <= 1322089.0)\\n            Predict: 765.4825\\n           Else (feature 0 > 1322089.0)\\n            Predict: 730.4229471316086\\n        Else (feature 3 > -73.9886360168457)\\n         If (feature 2 <= 1.5)\\n          If (feature 2 <= 0.5)\\n           Predict: 2191.0\\n          Else (feature 2 > 0.5)\\n           If (feature 0 <= 3303608.0)\\n            Predict: 838.0741842705544\\n           Else (feature 0 > 3303608.0)\\n            Predict: 815.7721217887726\\n         Else (feature 2 > 1.5)\\n          If (feature 2 <= 2.5)\\n           If (feature 0 <= 1994480.0)\\n            Predict: 916.2953367875648\\n           Else (feature 0 > 1994480.0)\\n            Predict: 899.3552188552188\\n          Else (feature 2 > 2.5)\\n           If (feature 2 <= 3.5)\\n            Predict: 962.5582047685834\\n           Else (feature 2 > 3.5)\\n            Predict: 1023.6720867208672\\n       Else (feature 3 > -73.9818229675293)\\n        If (feature 3 <= -73.97382354736328)\\n         If (feature 2 <= 1.5)\\n          If (feature 0 <= 3303608.0)\\n           If (feature 0 <= 669424.0)\\n            Predict: 1042.0535833891493\\n           Else (feature 0 > 669424.0)\\n            Predict: 1073.2438341787652\\n          Else (feature 0 > 3303608.0)\\n           Predict: 1040.4039735099338\\n         Else (feature 2 > 1.5)\\n          If (feature 2 <= 3.5)\\n           If (feature 0 <= 3303608.0)\\n            Predict: 1149.0132575757575\\n           Else (feature 0 > 3303608.0)\\n            Predict: 1185.8470948012232\\n          Else (feature 2 > 3.5)\\n           If (feature 0 <= 1322089.0)\\n            Predict: 1285.4302325581396\\n           Else (feature 0 > 1322089.0)\\n            Predict: 1179.764397905759\\n        Else (feature 3 > -73.97382354736328)\\n         If (feature 2 <= 1.5)\\n          If (feature 0 <= 3303608.0)\\n           If (feature 0 <= 2668437.0)\\n            Predict: 1308.332463768116\\n           Else (feature 0 > 2668437.0)\\n            Predict: 1280.2071078431372\\n          Else (feature 0 > 3303608.0)\\n           Predict: 1327.7030237580993\\n         Else (feature 2 > 1.5)\\n          If (feature 0 <= 1994480.0)\\n           If (feature 2 <= 3.5)\\n            Predict: 1350.9656357388317\\n           Else (feature 2 > 3.5)\\n            Predict: 1445.3333333333333\\n          Else (feature 0 > 1994480.0)\\n           If (feature 0 <= 3303608.0)\\n            Predict: 1390.0646651270208\\n           Else (feature 0 > 3303608.0)\\n            Predict: 1410.336405529954\\n      Else (feature 4 > -73.99589920043945)\\n       If (feature 3 <= -73.9818229675293)\\n        If (feature 4 <= -73.97102737426758)\\n         If (feature 4 <= -73.98733901977539)\\n          If (feature 2 <= 1.5)\\n           If (feature 3 <= -73.9886360168457)\\n            Predict: 581.1952826459349\\n           Else (feature 3 > -73.9886360168457)\\n            Predict: 593.0174937783634\\n          Else (feature 2 > 1.5)\\n           If (feature 2 <= 2.5)\\n            Predict: 652.3234215885947\\n           Else (feature 2 > 2.5)\\n            Predict: 695.6873822975518\\n         Else (feature 4 > -73.98733901977539)\\n          If (feature 0 <= 1994480.0)\\n           If (feature 0 <= 1322089.0)\\n            Predict: 634.0828744123573\\n           Else (feature 0 > 1322089.0)\\n            Predict: 826.0593471810089\\n          Else (feature 0 > 1994480.0)\\n           If (feature 3 <= -73.9886360168457)\\n            Predict: 685.4568682606657\\n           Else (feature 3 > -73.9886360168457)\\n            Predict: 587.4816414686825\\n        Else (feature 4 > -73.97102737426758)\\n         If (feature 3 <= -73.9886360168457)\\n          If (feature 2 <= 2.5)\\n           If (feature 2 <= 1.5)\\n            Predict: 1089.3821773735076\\n           Else (feature 2 > 1.5)\\n            Predict: 1111.7723577235772\\n          Else (feature 2 > 2.5)\\n           If (feature 2 <= 3.5)\\n            Predict: 1198.1400778210116\\n           Else (feature 2 > 3.5)\\n            Predict: 1116.7421875\\n         Else (feature 3 > -73.9886360168457)\\n          If (feature 2 <= 1.5)\\n           If (feature 0 <= 1322089.0)\\n            Predict: 833.0937908496732\\n           Else (feature 0 > 1322089.0)\\n            Predict: 861.612996622165\\n          Else (feature 2 > 1.5)\\n           If (feature 0 <= 669424.0)\\n            Predict: 911.4925373134329\\n           Else (feature 0 > 669424.0)\\n            Predict: 882.1967213114754\\n       Else (feature 3 > -73.9818229675293)\\n        If (feature 4 <= -73.98733901977539)\\n         If (feature 3 <= -73.97382354736328)\\n          If (feature 2 <= 1.5)\\n           If (feature 0 <= 3303608.0)\\n            Predict: 700.4190875232774\\n           Else (feature 0 > 3303608.0)\\n            Predict: 710.3955257270693\\n          Else (feature 2 > 1.5)\\n           If (feature 0 <= 3303608.0)\\n            Predict: 793.2219899665552\\n           Else (feature 0 > 3303608.0)\\n            Predict: 753.7101727447217\\n         Else (feature 3 > -73.97382354736328)\\n          If (feature 2 <= 1.5)\\n           If (feature 0 <= 1322089.0)\\n            Predict: 997.084142394822\\n           Else (feature 0 > 1322089.0)\\n            Predict: 1005.0723437808003\\n          Else (feature 2 > 1.5)\\n           If (feature 0 <= 2668437.0)\\n            Predict: 1039.3741438356165\\n           Else (feature 0 > 2668437.0)\\n            Predict: 1007.8712522045855\\n        Else (feature 4 > -73.98733901977539)\\n         If (feature 4 <= -73.97967147827148)\\n          If (feature 3 <= -73.97382354736328)\\n           If (feature 2 <= 1.5)\\n            Predict: 564.3662080584023\\n           Else (feature 2 > 1.5)\\n            Predict: 616.3401469179177\\n          Else (feature 3 > -73.97382354736328)\\n           If (feature 2 <= 1.5)\\n            Predict: 745.876527164024\\n           Else (feature 2 > 1.5)\\n            Predict: 788.8389339513326\\n         Else (feature 4 > -73.97967147827148)\\n          If (feature 3 <= -73.97382354736328)\\n           If (feature 4 <= -73.97102737426758)\\n            Predict: 542.300177511171\\n           Else (feature 4 > -73.97102737426758)\\n            Predict: 659.2284551843176\\n          Else (feature 3 > -73.97382354736328)\\n           If (feature 4 <= -73.97102737426758)\\n            Predict: 581.0374591932717\\n           Else (feature 4 > -73.97102737426758)\\n            Predict: 466.1134608530355\\n    Else (feature 1 > 1.5)\\n     If (feature 3 <= -73.99696731567383)\\n      If (feature 4 <= -73.98733901977539)\\n       If (feature 4 <= -73.99589920043945)\\n        If (feature 2 <= 2.5)\\n         If (feature 0 <= 669424.0)\\n          If (feature 2 <= 1.5)\\n           Predict: 810.5776004402862\\n          Else (feature 2 > 1.5)\\n           Predict: 889.9291938997821\\n         Else (feature 0 > 669424.0)\\n          If (feature 0 <= 1994480.0)\\n           If (feature 2 <= 1.5)\\n            Predict: 755.7020278659126\\n           Else (feature 2 > 1.5)\\n            Predict: 638.0356179168915\\n          Else (feature 0 > 1994480.0)\\n           If (feature 0 <= 2668437.0)\\n            Predict: 634.9896818572657\\n           Else (feature 0 > 2668437.0)\\n            Predict: 687.124806544329\\n        Else (feature 2 > 2.5)\\n         If (feature 2 <= 3.5)\\n          If (feature 0 <= 1994480.0)\\n           If (feature 0 <= 1322089.0)\\n            Predict: 987.6079136690647\\n           Else (feature 0 > 1322089.0)\\n            Predict: 801.4493243243244\\n          Else (feature 0 > 1994480.0)\\n           If (feature 0 <= 3303608.0)\\n            Predict: 1160.1850533807828\\n           Else (feature 0 > 3303608.0)\\n            Predict: 1117.847972972973\\n         Else (feature 2 > 3.5)\\n          If (feature 2 <= 4.5)\\n           If (feature 0 <= 1994480.0)\\n            Predict: 526.6798866855524\\n           Else (feature 0 > 1994480.0)\\n            Predict: 822.2577903682719\\n          Else (feature 2 > 4.5)\\n           If (feature 0 <= 2668437.0)\\n            Predict: 766.5054517133956\\n           Else (feature 0 > 2668437.0)\\n            Predict: 875.0162218733648\\n       Else (feature 4 > -73.99589920043945)\\n        If (feature 0 <= 2668437.0)\\n         If (feature 0 <= 1994480.0)\\n          If (feature 0 <= 669424.0)\\n           If (feature 2 <= 3.5)\\n            Predict: 904.40838650866\\n           Else (feature 2 > 3.5)\\n            Predict: 797.7219101123595\\n          Else (feature 0 > 669424.0)\\n           If (feature 2 <= 4.5)\\n            Predict: 986.4128301886792\\n           Else (feature 2 > 4.5)\\n            Predict: 888.8609831029186\\n         Else (feature 0 > 1994480.0)\\n          If (feature 2 <= 4.5)\\n           If (feature 2 <= 3.5)\\n            Predict: 1097.6440464970153\\n           Else (feature 2 > 3.5)\\n            Predict: 2658.5348837209303\\n          Else (feature 2 > 4.5)\\n           Predict: 839.9399399399399\\n        Else (feature 0 > 2668437.0)\\n         If (feature 2 <= 3.5)\\n          If (feature 2 <= 1.5)\\n           If (feature 0 <= 3303608.0)\\n            Predict: 869.7579214195184\\n           Else (feature 0 > 3303608.0)\\n            Predict: 815.992184286302\\n          Else (feature 2 > 1.5)\\n           If (feature 2 <= 2.5)\\n            Predict: 1034.174836601307\\n           Else (feature 2 > 2.5)\\n            Predict: 893.6830601092896\\n         Else (feature 2 > 3.5)\\n          If (feature 0 <= 3303608.0)\\n           If (feature 2 <= 4.5)\\n            Predict: 692.3720930232558\\n           Else (feature 2 > 4.5)\\n            Predict: 730.4877650897226\\n          Else (feature 0 > 3303608.0)\\n           If (feature 2 <= 4.5)\\n            Predict: 638.0895522388059\\n           Else (feature 2 > 4.5)\\n            Predict: 830.6560606060606\\n      Else (feature 4 > -73.98733901977539)\\n       If (feature 4 <= -73.97102737426758)\\n        If (feature 4 <= -73.97967147827148)\\n         If (feature 0 <= 1994480.0)\\n          If (feature 0 <= 1322089.0)\\n           If (feature 2 <= 2.5)\\n            Predict: 1110.8460181451612\\n           Else (feature 2 > 2.5)\\n            Predict: 1350.769624573379\\n          Else (feature 0 > 1322089.0)\\n           If (feature 2 <= 2.5)\\n            Predict: 1305.3556675062973\\n           Else (feature 2 > 2.5)\\n            Predict: 1206.9568822553897\\n         Else (feature 0 > 1994480.0)\\n          If (feature 2 <= 1.5)\\n           If (feature 0 <= 2668437.0)\\n            Predict: 1121.6119402985075\\n           Else (feature 0 > 2668437.0)\\n            Predict: 1250.0689223057643\\n          Else (feature 2 > 1.5)\\n           If (feature 2 <= 2.5)\\n            Predict: 961.6851130163678\\n           Else (feature 2 > 2.5)\\n            Predict: 1143.5229155162892\\n        Else (feature 4 > -73.97967147827148)\\n         If (feature 0 <= 669424.0)\\n          If (feature 2 <= 4.5)\\n           If (feature 2 <= 2.5)\\n            Predict: 1508.3883770375621\\n           Else (feature 2 > 2.5)\\n            Predict: 1121.6948051948052\\n          Else (feature 2 > 4.5)\\n           Predict: 1687.468085106383\\n         Else (feature 0 > 669424.0)\\n          If (feature 0 <= 2668437.0)\\n           If (feature 2 <= 3.5)\\n            Predict: 1358.414705882353\\n           Else (feature 2 > 3.5)\\n            Predict: 1282.8742331288342\\n          Else (feature 0 > 2668437.0)\\n           If (feature 2 <= 2.5)\\n            Predict: 1495.1324921135647\\n           Else (feature 2 > 2.5)\\n            Predict: 1268.592105263158\\n       Else (feature 4 > -73.97102737426758)\\n        If (feature 2 <= 1.5)\\n         If (feature 0 <= 669424.0)\\n          Predict: 1760.8740515933232\\n         Else (feature 0 > 669424.0)\\n          If (feature 0 <= 2668437.0)\\n           If (feature 0 <= 1994480.0)\\n            Predict: 1465.3511730205278\\n           Else (feature 0 > 1994480.0)\\n            Predict: 1361.39111747851\\n          Else (feature 0 > 2668437.0)\\n           If (feature 0 <= 3303608.0)\\n            Predict: 1739.3933121019109\\n           Else (feature 0 > 3303608.0)\\n            Predict: 1590.4865629420085\\n        Else (feature 2 > 1.5)\\n         If (feature 0 <= 2668437.0)\\n          If (feature 2 <= 2.5)\\n           If (feature 0 <= 669424.0)\\n            Predict: 1847.6267605633802\\n           Else (feature 0 > 669424.0)\\n            Predict: 1316.7348178137652\\n          Else (feature 2 > 2.5)\\n           If (feature 0 <= 1994480.0)\\n            Predict: 2169.148404993065\\n           Else (feature 0 > 1994480.0)\\n            Predict: 1350.4895104895104\\n         Else (feature 0 > 2668437.0)\\n          If (feature 2 <= 2.5)\\n           If (feature 0 <= 3303608.0)\\n            Predict: 1797.2440476190477\\n           Else (feature 0 > 3303608.0)\\n            Predict: 3336.0738636363635\\n          Else (feature 2 > 2.5)\\n           If (feature 0 <= 3303608.0)\\n            Predict: 2635.382716049383\\n           Else (feature 0 > 3303608.0)\\n            Predict: 1697.3754512635378\\n     Else (feature 3 > -73.99696731567383)\\n      If (feature 4 <= -73.99589920043945)\\n       If (feature 3 <= -73.9886360168457)\\n        If (feature 2 <= 1.5)\\n         If (feature 0 <= 669424.0)\\n          If (feature 2 <= 0.5)\\n           Predict: 49.0\\n          Else (feature 2 > 0.5)\\n           Predict: 740.3985671191554\\n         Else (feature 0 > 669424.0)\\n          If (feature 0 <= 3303608.0)\\n           If (feature 0 <= 2668437.0)\\n            Predict: 869.9235550031075\\n           Else (feature 0 > 2668437.0)\\n            Predict: 831.7708333333334\\n          Else (feature 0 > 3303608.0)\\n           Predict: 760.4378163412871\\n        Else (feature 2 > 1.5)\\n         If (feature 2 <= 4.5)\\n          If (feature 0 <= 669424.0)\\n           If (feature 2 <= 2.5)\\n            Predict: 786.0292307692308\\n           Else (feature 2 > 2.5)\\n            Predict: 637.4548611111111\\n          Else (feature 0 > 669424.0)\\n           If (feature 0 <= 1322089.0)\\n            Predict: 1242.5320641282565\\n           Else (feature 0 > 1322089.0)\\n            Predict: 951.8842299578059\\n         Else (feature 2 > 4.5)\\n          If (feature 0 <= 1322089.0)\\n           If (feature 0 <= 669424.0)\\n            Predict: 891.4940652818991\\n           Else (feature 0 > 669424.0)\\n            Predict: 889.4188163884673\\n          Else (feature 0 > 1322089.0)\\n           If (feature 0 <= 2668437.0)\\n            Predict: 766.2850971922246\\n           Else (feature 0 > 2668437.0)\\n            Predict: 853.3762010347376\\n       Else (feature 3 > -73.9886360168457)\\n        If (feature 3 <= -73.97382354736328)\\n         If (feature 0 <= 2668437.0)\\n          If (feature 2 <= 1.5)\\n           If (feature 3 <= -73.9818229675293)\\n            Predict: 1134.5123207573438\\n           Else (feature 3 > -73.9818229675293)\\n            Predict: 1240.7955404383977\\n          Else (feature 2 > 1.5)\\n           If (feature 0 <= 669424.0)\\n            Predict: 1208.766476388168\\n           Else (feature 0 > 669424.0)\\n            Predict: 1044.3675198893116\\n         Else (feature 0 > 2668437.0)\\n          If (feature 2 <= 2.5)\\n           If (feature 3 <= -73.9818229675293)\\n            Predict: 1108.9229098805647\\n           Else (feature 3 > -73.9818229675293)\\n            Predict: 1251.8324718759502\\n          Else (feature 2 > 2.5)\\n           If (feature 3 <= -73.9818229675293)\\n            Predict: 1479.7710583153348\\n           Else (feature 3 > -73.9818229675293)\\n            Predict: 1096.890608875129\\n        Else (feature 3 > -73.97382354736328)\\n         If (feature 0 <= 669424.0)\\n          If (feature 2 <= 2.5)\\n           If (feature 2 <= 1.5)\\n            Predict: 1736.5105590062112\\n           Else (feature 2 > 1.5)\\n            Predict: 2231.0558659217877\\n          Else (feature 2 > 2.5)\\n           If (feature 2 <= 4.5)\\n            Predict: 1278.2686567164178\\n           Else (feature 2 > 4.5)\\n            Predict: 1709.3080808080808\\n         Else (feature 0 > 669424.0)\\n          If (feature 0 <= 1994480.0)\\n           If (feature 2 <= 4.5)\\n            Predict: 1340.3019683149305\\n           Else (feature 2 > 4.5)\\n            Predict: 1575.4485294117646\\n          Else (feature 0 > 1994480.0)\\n           If (feature 0 <= 2668437.0)\\n            Predict: 1727.3786331500394\\n           Else (feature 0 > 2668437.0)\\n            Predict: 1472.198915763136\\n      Else (feature 4 > -73.99589920043945)\\n       If (feature 3 <= -73.9886360168457)\\n        If (feature 4 <= -73.97102737426758)\\n         If (feature 4 <= -73.97967147827148)\\n          If (feature 0 <= 1994480.0)\\n           If (feature 2 <= 1.5)\\n            Predict: 862.2830233291298\\n           Else (feature 2 > 1.5)\\n            Predict: 756.9525440933892\\n          Else (feature 0 > 1994480.0)\\n           If (feature 2 <= 3.5)\\n            Predict: 853.9004744821201\\n           Else (feature 2 > 3.5)\\n            Predict: 965.364907651715\\n         Else (feature 4 > -73.97967147827148)\\n          If (feature 2 <= 2.5)\\n           If (feature 0 <= 3303608.0)\\n            Predict: 982.6010201190139\\n           Else (feature 0 > 3303608.0)\\n            Predict: 868.917808219178\\n          Else (feature 2 > 2.5)\\n           If (feature 0 <= 1994480.0)\\n            Predict: 1059.8159126365056\\n           Else (feature 0 > 1994480.0)\\n            Predict: 1219.8189608998393\\n        Else (feature 4 > -73.97102737426758)\\n         If (feature 2 <= 2.5)\\n          If (feature 0 <= 2668437.0)\\n           If (feature 0 <= 1994480.0)\\n            Predict: 1380.7735124760077\\n           Else (feature 0 > 1994480.0)\\n            Predict: 1525.0560448358688\\n          Else (feature 0 > 2668437.0)\\n           If (feature 2 <= 1.5)\\n            Predict: 1304.43928035982\\n           Else (feature 2 > 1.5)\\n            Predict: 1112.1373737373738\\n         Else (feature 2 > 2.5)\\n          If (feature 0 <= 3303608.0)\\n           If (feature 2 <= 4.5)\\n            Predict: 1397.7205882352941\\n           Else (feature 2 > 4.5)\\n            Predict: 1683.79453125\\n          Else (feature 0 > 3303608.0)\\n           If (feature 2 <= 3.5)\\n            Predict: 2169.443181818182\\n           Else (feature 2 > 3.5)\\n            Predict: 1146.5987460815047\\n       Else (feature 3 > -73.9886360168457)\\n        If (feature 4 <= -73.98733901977539)\\n         If (feature 3 <= -73.97382354736328)\\n          If (feature 3 <= -73.9818229675293)\\n           If (feature 0 <= 3303608.0)\\n            Predict: 831.2306802969454\\n           Else (feature 0 > 3303608.0)\\n            Predict: 929.9330002938584\\n          Else (feature 3 > -73.9818229675293)\\n           If (feature 0 <= 3303608.0)\\n            Predict: 968.0342265853011\\n           Else (feature 0 > 3303608.0)\\n            Predict: 825.6110938952587\\n         Else (feature 3 > -73.97382354736328)\\n          If (feature 2 <= 4.5)\\n           If (feature 0 <= 669424.0)\\n            Predict: 1370.590378006873\\n           Else (feature 0 > 669424.0)\\n            Predict: 1255.81912568306\\n          Else (feature 2 > 4.5)\\n           If (feature 0 <= 3303608.0)\\n            Predict: 1070.675105485232\\n           Else (feature 0 > 3303608.0)\\n            Predict: 1465.6697247706422\\n        Else (feature 4 > -73.98733901977539)\\n         If (feature 3 <= -73.9818229675293)\\n          If (feature 4 <= -73.97102737426758)\\n           If (feature 2 <= 1.5)\\n            Predict: 708.8990513767629\\n           Else (feature 2 > 1.5)\\n            Predict: 790.4438584779706\\n          Else (feature 4 > -73.97102737426758)\\n           If (feature 0 <= 3303608.0)\\n            Predict: 1038.6219648860665\\n           Else (feature 0 > 3303608.0)\\n            Predict: 1225.4098428453267\\n         Else (feature 3 > -73.9818229675293)\\n          If (feature 4 <= -73.97967147827148)\\n           If (feature 3 <= -73.97382354736328)\\n            Predict: 779.1024510049622\\n           Else (feature 3 > -73.97382354736328)\\n            Predict: 946.1722960614559\\n          Else (feature 4 > -73.97967147827148)\\n           If (feature 3 <= -73.97382354736328)\\n            Predict: 767.1446912413359\\n           Else (feature 3 > -73.97382354736328)\\n            Predict: 669.4358984553605\\n   Else (feature 4 > -73.95524215698242)\\n    If (feature 3 <= -73.97382354736328)\\n     If (feature 3 <= -73.9818229675293)\\n      If (feature 1 <= 1.5)\\n       If (feature 3 <= -73.99696731567383)\\n        If (feature 2 <= 1.5)\\n         If (feature 0 <= 3303608.0)\\n          If (feature 0 <= 1994480.0)\\n           If (feature 0 <= 1322089.0)\\n            Predict: 1755.584163607761\\n           Else (feature 0 > 1322089.0)\\n            Predict: 1794.3135135135135\\n          Else (feature 0 > 1994480.0)\\n           If (feature 0 <= 2668437.0)\\n            Predict: 1736.542105263158\\n           Else (feature 0 > 2668437.0)\\n            Predict: 1723.48233995585\\n         Else (feature 0 > 3303608.0)\\n          Predict: 1788.8319919517103\\n        Else (feature 2 > 1.5)\\n         If (feature 2 <= 2.5)\\n          If (feature 0 <= 2668437.0)\\n           If (feature 0 <= 669424.0)\\n            Predict: 1807.510101010101\\n           Else (feature 0 > 669424.0)\\n            Predict: 1909.8922495274103\\n          Else (feature 0 > 2668437.0)\\n           If (feature 0 <= 3303608.0)\\n            Predict: 1766.7687861271677\\n           Else (feature 0 > 3303608.0)\\n            Predict: 1814.7874396135267\\n         Else (feature 2 > 2.5)\\n          If (feature 0 <= 3303608.0)\\n           If (feature 0 <= 1322089.0)\\n            Predict: 2023.1181818181817\\n           Else (feature 0 > 1322089.0)\\n            Predict: 1866.050505050505\\n          Else (feature 0 > 3303608.0)\\n           If (feature 2 <= 4.5)\\n            Predict: 2177.448717948718\\n           Else (feature 2 > 4.5)\\n            Predict: 3691.0\\n       Else (feature 3 > -73.99696731567383)\\n        If (feature 2 <= 1.5)\\n         If (feature 3 <= -73.9886360168457)\\n          If (feature 0 <= 669424.0)\\n           Predict: 1571.5438165438165\\n          Else (feature 0 > 669424.0)\\n           If (feature 0 <= 1994480.0)\\n            Predict: 1538.811972679791\\n           Else (feature 0 > 1994480.0)\\n            Predict: 1530.6928630935852\\n         Else (feature 3 > -73.9886360168457)\\n          If (feature 0 <= 2668437.0)\\n           If (feature 0 <= 1322089.0)\\n            Predict: 1388.973220338983\\n           Else (feature 0 > 1322089.0)\\n            Predict: 1416.8410239137756\\n          Else (feature 0 > 2668437.0)\\n           If (feature 0 <= 3303608.0)\\n            Predict: 1336.7987106017192\\n           Else (feature 0 > 3303608.0)\\n            Predict: 1412.99477124183\\n        Else (feature 2 > 1.5)\\n         If (feature 2 <= 2.5)\\n          If (feature 3 <= -73.9886360168457)\\n           If (feature 0 <= 1322089.0)\\n            Predict: 1618.1791666666666\\n           Else (feature 0 > 1322089.0)\\n            Predict: 1684.4714424007745\\n          Else (feature 3 > -73.9886360168457)\\n           If (feature 0 <= 1994480.0)\\n            Predict: 1589.881922675026\\n           Else (feature 0 > 1994480.0)\\n            Predict: 1529.7705761316872\\n         Else (feature 2 > 2.5)\\n          If (feature 2 <= 4.5)\\n           If (feature 3 <= -73.9886360168457)\\n            Predict: 1776.7253668763103\\n           Else (feature 3 > -73.9886360168457)\\n            Predict: 1680.7417910447762\\n          Else (feature 2 > 4.5)\\n           If (feature 0 <= 2668437.0)\\n            Predict: 2768.625\\n           Else (feature 0 > 2668437.0)\\n            Predict: 1827.0\\n      Else (feature 1 > 1.5)\\n       If (feature 3 <= -73.99696731567383)\\n        If (feature 2 <= 2.5)\\n         If (feature 0 <= 669424.0)\\n          If (feature 2 <= 1.5)\\n           Predict: 2153.8681446907817\\n          Else (feature 2 > 1.5)\\n           Predict: 1864.6927083333333\\n         Else (feature 0 > 669424.0)\\n          If (feature 0 <= 1994480.0)\\n           If (feature 0 <= 1322089.0)\\n            Predict: 1964.3230134158928\\n           Else (feature 0 > 1322089.0)\\n            Predict: 2039.5079365079366\\n          Else (feature 0 > 1994480.0)\\n           If (feature 2 <= 1.5)\\n            Predict: 1959.301646090535\\n           Else (feature 2 > 1.5)\\n            Predict: 1824.9403747870529\\n        Else (feature 2 > 2.5)\\n         If (feature 0 <= 1322089.0)\\n          If (feature 2 <= 4.5)\\n           If (feature 2 <= 3.5)\\n            Predict: 1745.8813559322034\\n           Else (feature 2 > 3.5)\\n            Predict: 1638.38\\n          Else (feature 2 > 4.5)\\n           If (feature 0 <= 669424.0)\\n            Predict: 2179.565\\n           Else (feature 0 > 669424.0)\\n            Predict: 2050.5467289719627\\n         Else (feature 0 > 1322089.0)\\n          If (feature 0 <= 2668437.0)\\n           If (feature 0 <= 1994480.0)\\n            Predict: 2192.8132911392404\\n           Else (feature 0 > 1994480.0)\\n            Predict: 2582.7056962025317\\n          Else (feature 0 > 2668437.0)\\n           If (feature 2 <= 3.5)\\n            Predict: 2397.75\\n           Else (feature 2 > 3.5)\\n            Predict: 1958.292372881356\\n       Else (feature 3 > -73.99696731567383)\\n        If (feature 2 <= 2.5)\\n         If (feature 0 <= 3303608.0)\\n          If (feature 3 <= -73.9886360168457)\\n           If (feature 0 <= 1322089.0)\\n            Predict: 1789.9327925840093\\n           Else (feature 0 > 1322089.0)\\n            Predict: 1984.343202883625\\n          Else (feature 3 > -73.9886360168457)\\n           If (feature 0 <= 1322089.0)\\n            Predict: 1900.583995292733\\n           Else (feature 0 > 1322089.0)\\n            Predict: 1710.3885668598841\\n         Else (feature 0 > 3303608.0)\\n          If (feature 3 <= -73.9886360168457)\\n           If (feature 2 <= 1.5)\\n            Predict: 1940.1843276936777\\n           Else (feature 2 > 1.5)\\n            Predict: 1937.0874125874127\\n          Else (feature 3 > -73.9886360168457)\\n           If (feature 2 <= 1.5)\\n            Predict: 2016.7893196781272\\n           Else (feature 2 > 1.5)\\n            Predict: 1976.4085714285713\\n        Else (feature 2 > 2.5)\\n         If (feature 0 <= 3303608.0)\\n          If (feature 3 <= -73.9886360168457)\\n           If (feature 0 <= 669424.0)\\n            Predict: 1439.0328638497654\\n           Else (feature 0 > 669424.0)\\n            Predict: 1729.0908496732027\\n          Else (feature 3 > -73.9886360168457)\\n           If (feature 0 <= 669424.0)\\n            Predict: 1765.7126213592232\\n           Else (feature 0 > 669424.0)\\n            Predict: 1531.5486500254713\\n         Else (feature 0 > 3303608.0)\\n          If (feature 3 <= -73.9886360168457)\\n           If (feature 2 <= 4.5)\\n            Predict: 1421.897810218978\\n           Else (feature 2 > 4.5)\\n            Predict: 1813.6073825503356\\n          Else (feature 3 > -73.9886360168457)\\n           If (feature 2 <= 4.5)\\n            Predict: 2486.9182389937105\\n           Else (feature 2 > 4.5)\\n            Predict: 2074.117318435754\\n     Else (feature 3 > -73.9818229675293)\\n      If (feature 1 <= 1.5)\\n       If (feature 2 <= 1.5)\\n        If (feature 0 <= 1994480.0)\\n         If (feature 0 <= 669424.0)\\n          Predict: 1273.6860841423947\\n         Else (feature 0 > 669424.0)\\n          If (feature 0 <= 1322089.0)\\n           Predict: 1232.939330543933\\n          Else (feature 0 > 1322089.0)\\n           Predict: 1234.8512556342562\\n        Else (feature 0 > 1994480.0)\\n         If (feature 0 <= 2668437.0)\\n          Predict: 1287.1093143596377\\n         Else (feature 0 > 2668437.0)\\n          If (feature 0 <= 3303608.0)\\n           Predict: 1266.4024556616644\\n          Else (feature 0 > 3303608.0)\\n           Predict: 1247.980185758514\\n       Else (feature 2 > 1.5)\\n        If (feature 2 <= 4.5)\\n         If (feature 0 <= 3303608.0)\\n          If (feature 0 <= 2668437.0)\\n           If (feature 0 <= 669424.0)\\n            Predict: 1482.1801075268818\\n           Else (feature 0 > 669424.0)\\n            Predict: 1433.6768953068593\\n          Else (feature 0 > 2668437.0)\\n           If (feature 2 <= 2.5)\\n            Predict: 1513.644366197183\\n           Else (feature 2 > 2.5)\\n            Predict: 1396.3698630136987\\n         Else (feature 0 > 3303608.0)\\n          If (feature 2 <= 3.5)\\n           If (feature 2 <= 2.5)\\n            Predict: 1397.3333333333333\\n           Else (feature 2 > 2.5)\\n            Predict: 1386.406779661017\\n          Else (feature 2 > 3.5)\\n           Predict: 1452.5666666666666\\n        Else (feature 2 > 4.5)\\n         If (feature 0 <= 3303608.0)\\n          If (feature 0 <= 1994480.0)\\n           If (feature 0 <= 1322089.0)\\n            Predict: 1101.5\\n           Else (feature 0 > 1322089.0)\\n            Predict: 2585.0\\n          Else (feature 0 > 1994480.0)\\n           If (feature 0 <= 2668437.0)\\n            Predict: 1314.6666666666667\\n           Else (feature 0 > 2668437.0)\\n            Predict: 681.0\\n         Else (feature 0 > 3303608.0)\\n          Predict: 3328.0\\n      Else (feature 1 > 1.5)\\n       If (feature 2 <= 3.5)\\n        If (feature 2 <= 1.5)\\n         If (feature 0 <= 2668437.0)\\n          If (feature 0 <= 1322089.0)\\n           If (feature 0 <= 669424.0)\\n            Predict: 1434.1513067400276\\n           Else (feature 0 > 669424.0)\\n            Predict: 1470.4558716265499\\n          Else (feature 0 > 1322089.0)\\n           If (feature 0 <= 1994480.0)\\n            Predict: 1405.5294964028776\\n           Else (feature 0 > 1994480.0)\\n            Predict: 1364.3526354862659\\n         Else (feature 0 > 2668437.0)\\n          If (feature 0 <= 3303608.0)\\n           Predict: 1631.0717911530094\\n          Else (feature 0 > 3303608.0)\\n           Predict: 1384.3726448011166\\n        Else (feature 2 > 1.5)\\n         If (feature 0 <= 1322089.0)\\n          If (feature 2 <= 2.5)\\n           If (feature 0 <= 669424.0)\\n            Predict: 1326.166163141994\\n           Else (feature 0 > 669424.0)\\n            Predict: 1240.8409785932722\\n          Else (feature 2 > 2.5)\\n           If (feature 0 <= 669424.0)\\n            Predict: 1152.622807017544\\n           Else (feature 0 > 669424.0)\\n            Predict: 1314.9918032786886\\n         Else (feature 0 > 1322089.0)\\n          If (feature 0 <= 1994480.0)\\n           If (feature 2 <= 2.5)\\n            Predict: 1578.3177570093458\\n           Else (feature 2 > 2.5)\\n            Predict: 1332.2566371681417\\n          Else (feature 0 > 1994480.0)\\n           If (feature 2 <= 2.5)\\n            Predict: 1286.0736629667003\\n           Else (feature 2 > 2.5)\\n            Predict: 1329.6723646723647\\n       Else (feature 2 > 3.5)\\n        If (feature 0 <= 3303608.0)\\n         If (feature 0 <= 669424.0)\\n          If (feature 2 <= 4.5)\\n           Predict: 1256.8837209302326\\n          Else (feature 2 > 4.5)\\n           Predict: 1478.745945945946\\n         Else (feature 0 > 669424.0)\\n          If (feature 0 <= 1994480.0)\\n           If (feature 2 <= 4.5)\\n            Predict: 1228.8\\n           Else (feature 2 > 4.5)\\n            Predict: 1789.552068473609\\n          Else (feature 0 > 1994480.0)\\n           If (feature 2 <= 4.5)\\n            Predict: 2103.3555555555554\\n           Else (feature 2 > 4.5)\\n            Predict: 1611.8365122615803\\n        Else (feature 0 > 3303608.0)\\n         If (feature 2 <= 4.5)\\n          Predict: 1250.4489795918366\\n         Else (feature 2 > 4.5)\\n          Predict: 1474.8947368421052\\n    Else (feature 3 > -73.97382354736328)\\n     If (feature 1 <= 1.5)\\n      If (feature 2 <= 1.5)\\n       If (feature 0 <= 1322089.0)\\n        If (feature 0 <= 669424.0)\\n         Predict: 833.6963226571768\\n        Else (feature 0 > 669424.0)\\n         Predict: 817.4430943701904\\n       Else (feature 0 > 1322089.0)\\n        If (feature 0 <= 3303608.0)\\n         If (feature 0 <= 2668437.0)\\n          If (feature 0 <= 1994480.0)\\n           Predict: 805.8184292379472\\n          Else (feature 0 > 1994480.0)\\n           Predict: 797.5772558714463\\n         Else (feature 0 > 2668437.0)\\n          Predict: 808.9974468085106\\n        Else (feature 0 > 3303608.0)\\n         Predict: 795.0498581272801\\n      Else (feature 2 > 1.5)\\n       If (feature 0 <= 2668437.0)\\n        If (feature 2 <= 4.5)\\n         If (feature 0 <= 1994480.0)\\n          If (feature 2 <= 3.5)\\n           If (feature 0 <= 669424.0)\\n            Predict: 944.4509803921569\\n           Else (feature 0 > 669424.0)\\n            Predict: 894.673311184939\\n          Else (feature 2 > 3.5)\\n           If (feature 0 <= 669424.0)\\n            Predict: 610.65625\\n           Else (feature 0 > 669424.0)\\n            Predict: 875.84375\\n         Else (feature 0 > 1994480.0)\\n          If (feature 2 <= 3.5)\\n           If (feature 2 <= 2.5)\\n            Predict: 903.0657534246575\\n           Else (feature 2 > 2.5)\\n            Predict: 956.1728395061729\\n          Else (feature 2 > 3.5)\\n           Predict: 1096.7560975609756\\n        Else (feature 2 > 4.5)\\n         If (feature 0 <= 1322089.0)\\n          If (feature 0 <= 669424.0)\\n           Predict: 667.0\\n          Else (feature 0 > 669424.0)\\n           Predict: 747.6666666666666\\n         Else (feature 0 > 1322089.0)\\n          If (feature 0 <= 1994480.0)\\n           Predict: 506.0\\n          Else (feature 0 > 1994480.0)\\n           Predict: 633.0\\n       Else (feature 0 > 2668437.0)\\n        If (feature 2 <= 4.5)\\n         If (feature 2 <= 3.5)\\n          If (feature 2 <= 2.5)\\n           If (feature 0 <= 3303608.0)\\n            Predict: 954.3881019830028\\n           Else (feature 0 > 3303608.0)\\n            Predict: 951.9095607235142\\n          Else (feature 2 > 2.5)\\n           If (feature 0 <= 3303608.0)\\n            Predict: 1023.5411764705882\\n           Else (feature 0 > 3303608.0)\\n            Predict: 964.8131868131868\\n         Else (feature 2 > 3.5)\\n          If (feature 0 <= 3303608.0)\\n           Predict: 937.3658536585366\\n          Else (feature 0 > 3303608.0)\\n           Predict: 844.6842105263158\\n        Else (feature 2 > 4.5)\\n         If (feature 0 <= 3303608.0)\\n          Predict: 2701.6666666666665\\n         Else (feature 0 > 3303608.0)\\n          Predict: 264.0\\n     Else (feature 1 > 1.5)\\n      If (feature 2 <= 2.5)\\n       If (feature 2 <= 1.5)\\n        If (feature 0 <= 669424.0)\\n         Predict: 963.3631111111112\\n        Else (feature 0 > 669424.0)\\n         If (feature 0 <= 1994480.0)\\n          If (feature 0 <= 1322089.0)\\n           Predict: 1079.6312056737588\\n          Else (feature 0 > 1322089.0)\\n           Predict: 1103.6468124709168\\n         Else (feature 0 > 1994480.0)\\n          If (feature 0 <= 3303608.0)\\n           If (feature 0 <= 2668437.0)\\n            Predict: 1050.7902222222222\\n           Else (feature 0 > 2668437.0)\\n            Predict: 1052.1783681214422\\n          Else (feature 0 > 3303608.0)\\n           Predict: 1020.021838034577\\n       Else (feature 2 > 1.5)\\n        If (feature 0 <= 2668437.0)\\n         If (feature 0 <= 1994480.0)\\n          If (feature 0 <= 669424.0)\\n           Predict: 1123.142857142857\\n          Else (feature 0 > 669424.0)\\n           If (feature 0 <= 1322089.0)\\n            Predict: 974.3921568627451\\n           Else (feature 0 > 1322089.0)\\n            Predict: 1056.9120458891014\\n         Else (feature 0 > 1994480.0)\\n          Predict: 820.2474645030426\\n        Else (feature 0 > 2668437.0)\\n         If (feature 0 <= 3303608.0)\\n          Predict: 1312.878243512974\\n         Else (feature 0 > 3303608.0)\\n          Predict: 1624.764258555133\\n      Else (feature 2 > 2.5)\\n       If (feature 0 <= 3303608.0)\\n        If (feature 0 <= 1994480.0)\\n         If (feature 2 <= 4.5)\\n          If (feature 2 <= 3.5)\\n           If (feature 0 <= 1322089.0)\\n            Predict: 764.0722891566265\\n           Else (feature 0 > 1322089.0)\\n            Predict: 858.7232704402516\\n          Else (feature 2 > 3.5)\\n           If (feature 0 <= 1322089.0)\\n            Predict: 1829.8544303797469\\n           Else (feature 0 > 1322089.0)\\n            Predict: 728.9661016949152\\n         Else (feature 2 > 4.5)\\n          If (feature 0 <= 669424.0)\\n           Predict: 813.6533101045296\\n          Else (feature 0 > 669424.0)\\n           If (feature 0 <= 1322089.0)\\n            Predict: 957.735197368421\\n           Else (feature 0 > 1322089.0)\\n            Predict: 866.913961038961\\n        Else (feature 0 > 1994480.0)\\n         If (feature 0 <= 2668437.0)\\n          If (feature 2 <= 3.5)\\n           Predict: 1270.9144385026739\\n          Else (feature 2 > 3.5)\\n           If (feature 2 <= 4.5)\\n            Predict: 843.6197183098592\\n           Else (feature 2 > 4.5)\\n            Predict: 1094.0785714285714\\n         Else (feature 0 > 2668437.0)\\n          If (feature 2 <= 4.5)\\n           If (feature 2 <= 3.5)\\n            Predict: 809.8692810457517\\n           Else (feature 2 > 3.5)\\n            Predict: 836.7076923076924\\n          Else (feature 2 > 4.5)\\n           Predict: 1003.3864915572233\\n       Else (feature 0 > 3303608.0)\\n        If (feature 2 <= 4.5)\\n         If (feature 2 <= 3.5)\\n          Predict: 785.6748466257669\\n         Else (feature 2 > 3.5)\\n          Predict: 999.6184210526316\\n        Else (feature 2 > 4.5)\\n         Predict: 812.1273885350319\\n  Else (feature 3 > -73.95919799804688)\\n   If (feature 4 <= -73.97102737426758)\\n    If (feature 4 <= -73.97967147827148)\\n     If (feature 2 <= 1.5)\\n      If (feature 1 <= 1.5)\\n       If (feature 4 <= -73.99589920043945)\\n        If (feature 0 <= 1322089.0)\\n         If (feature 0 <= 669424.0)\\n          Predict: 2005.708549222798\\n         Else (feature 0 > 669424.0)\\n          Predict: 2067.925257731959\\n        Else (feature 0 > 1322089.0)\\n         If (feature 0 <= 3303608.0)\\n          If (feature 0 <= 1994480.0)\\n           Predict: 1980.7908847184985\\n          Else (feature 0 > 1994480.0)\\n           If (feature 0 <= 2668437.0)\\n            Predict: 1994.1694267515923\\n           Else (feature 0 > 2668437.0)\\n            Predict: 1993.891061452514\\n         Else (feature 0 > 3303608.0)\\n          Predict: 1937.9827373612823\\n       Else (feature 4 > -73.99589920043945)\\n        If (feature 4 <= -73.98733901977539)\\n         If (feature 0 <= 1994480.0)\\n          If (feature 0 <= 669424.0)\\n           Predict: 1710.0987654320988\\n          Else (feature 0 > 669424.0)\\n           If (feature 0 <= 1322089.0)\\n            Predict: 1766.006016847172\\n           Else (feature 0 > 1322089.0)\\n            Predict: 1738.0377358490566\\n         Else (feature 0 > 1994480.0)\\n          If (feature 0 <= 2668437.0)\\n           Predict: 1672.359212050985\\n          Else (feature 0 > 2668437.0)\\n           If (feature 0 <= 3303608.0)\\n            Predict: 1716.6377672209026\\n           Else (feature 0 > 3303608.0)\\n            Predict: 1688.7939958592133\\n        Else (feature 4 > -73.98733901977539)\\n         If (feature 2 <= 0.5)\\n          Predict: 3243.0\\n         Else (feature 2 > 0.5)\\n          If (feature 0 <= 669424.0)\\n           Predict: 1519.2201210287444\\n          Else (feature 0 > 669424.0)\\n           If (feature 0 <= 1322089.0)\\n            Predict: 1589.3203319502074\\n           Else (feature 0 > 1322089.0)\\n            Predict: 1550.881301122313\\n      Else (feature 1 > 1.5)\\n       If (feature 4 <= -73.98733901977539)\\n        If (feature 0 <= 669424.0)\\n         If (feature 4 <= -73.99589920043945)\\n          Predict: 2133.626474442988\\n         Else (feature 4 > -73.99589920043945)\\n          Predict: 2507.9397590361446\\n        Else (feature 0 > 669424.0)\\n         If (feature 0 <= 1322089.0)\\n          If (feature 4 <= -73.99589920043945)\\n           Predict: 2283.4675862068966\\n          Else (feature 4 > -73.99589920043945)\\n           Predict: 1877.0913580246913\\n         Else (feature 0 > 1322089.0)\\n          If (feature 0 <= 3303608.0)\\n           If (feature 4 <= -73.99589920043945)\\n            Predict: 2186.359712230216\\n           Else (feature 4 > -73.99589920043945)\\n            Predict: 2299.7190476190476\\n          Else (feature 0 > 3303608.0)\\n           If (feature 4 <= -73.99589920043945)\\n            Predict: 2312.1800518134714\\n           Else (feature 4 > -73.99589920043945)\\n            Predict: 2038.3422459893047\\n       Else (feature 4 > -73.98733901977539)\\n        If (feature 0 <= 1994480.0)\\n         If (feature 0 <= 1322089.0)\\n          If (feature 0 <= 669424.0)\\n           Predict: 1834.2693574958814\\n          Else (feature 0 > 669424.0)\\n           Predict: 1766.3488372093022\\n         Else (feature 0 > 1322089.0)\\n          Predict: 1857.0723945902944\\n        Else (feature 0 > 1994480.0)\\n         If (feature 0 <= 2668437.0)\\n          Predict: 2035.1322505800465\\n         Else (feature 0 > 2668437.0)\\n          If (feature 0 <= 3303608.0)\\n           Predict: 2039.7736170212766\\n          Else (feature 0 > 3303608.0)\\n           Predict: 2037.9028527370856\\n     Else (feature 2 > 1.5)\\n      If (feature 0 <= 669424.0)\\n       If (feature 1 <= 1.5)\\n        If (feature 4 <= -73.98733901977539)\\n         If (feature 4 <= -73.99589920043945)\\n          If (feature 2 <= 3.5)\\n           If (feature 2 <= 2.5)\\n            Predict: 2203.4772727272725\\n           Else (feature 2 > 2.5)\\n            Predict: 2321.52\\n          Else (feature 2 > 3.5)\\n           If (feature 2 <= 4.5)\\n            Predict: 2519.05\\n           Else (feature 2 > 4.5)\\n            Predict: 2348.5\\n         Else (feature 4 > -73.99589920043945)\\n          If (feature 2 <= 3.5)\\n           If (feature 2 <= 2.5)\\n            Predict: 2033.5869565217392\\n           Else (feature 2 > 2.5)\\n            Predict: 2095.5135135135133\\n          Else (feature 2 > 3.5)\\n           If (feature 2 <= 4.5)\\n            Predict: 2338.655172413793\\n           Else (feature 2 > 4.5)\\n            Predict: 1172.0\\n        Else (feature 4 > -73.98733901977539)\\n         If (feature 2 <= 2.5)\\n          Predict: 9689.444866920152\\n         Else (feature 2 > 2.5)\\n          If (feature 2 <= 3.5)\\n           Predict: 1937.064935064935\\n          Else (feature 2 > 3.5)\\n           Predict: 2384.875\\n       Else (feature 1 > 1.5)\\n        If (feature 2 <= 4.5)\\n         If (feature 4 <= -73.99589920043945)\\n          If (feature 2 <= 2.5)\\n           Predict: 2430.361809045226\\n          Else (feature 2 > 2.5)\\n           If (feature 2 <= 3.5)\\n            Predict: 1913.037037037037\\n           Else (feature 2 > 3.5)\\n            Predict: 2090.4761904761904\\n         Else (feature 4 > -73.99589920043945)\\n          If (feature 2 <= 2.5)\\n           If (feature 4 <= -73.98733901977539)\\n            Predict: 1793.9948186528497\\n           Else (feature 4 > -73.98733901977539)\\n            Predict: 1915.448717948718\\n          Else (feature 2 > 2.5)\\n           If (feature 2 <= 3.5)\\n            Predict: 1650.3333333333333\\n           Else (feature 2 > 3.5)\\n            Predict: 1740.3387096774193\\n        Else (feature 2 > 4.5)\\n         If (feature 4 <= -73.99589920043945)\\n          Predict: 2564.438502673797\\n         Else (feature 4 > -73.99589920043945)\\n          If (feature 4 <= -73.98733901977539)\\n           Predict: 2466.105882352941\\n          Else (feature 4 > -73.98733901977539)\\n           Predict: 2465.899022801303\\n      Else (feature 0 > 669424.0)\\n       If (feature 4 <= -73.99589920043945)\\n        If (feature 2 <= 2.5)\\n         If (feature 1 <= 1.5)\\n          If (feature 0 <= 1322089.0)\\n           Predict: 2337.1059602649007\\n          Else (feature 0 > 1322089.0)\\n           If (feature 0 <= 2668437.0)\\n            Predict: 2117.7923875432525\\n           Else (feature 0 > 2668437.0)\\n            Predict: 2238.714285714286\\n         Else (feature 1 > 1.5)\\n          If (feature 0 <= 1994480.0)\\n           If (feature 0 <= 1322089.0)\\n            Predict: 2129.5733333333333\\n           Else (feature 0 > 1322089.0)\\n            Predict: 2235.276729559748\\n          Else (feature 0 > 1994480.0)\\n           If (feature 0 <= 2668437.0)\\n            Predict: 2039.55421686747\\n           Else (feature 0 > 2668437.0)\\n            Predict: 2101.3764705882354\\n        Else (feature 2 > 2.5)\\n         If (feature 0 <= 1994480.0)\\n          If (feature 2 <= 4.5)\\n           If (feature 1 <= 1.5)\\n            Predict: 2253.3866666666668\\n           Else (feature 1 > 1.5)\\n            Predict: 2010.2264150943397\\n          Else (feature 2 > 4.5)\\n           If (feature 0 <= 1322089.0)\\n            Predict: 2398.5046296296296\\n           Else (feature 0 > 1322089.0)\\n            Predict: 2573.7817258883247\\n         Else (feature 0 > 1994480.0)\\n          If (feature 0 <= 2668437.0)\\n           If (feature 2 <= 4.5)\\n            Predict: 2149.2924528301887\\n           Else (feature 2 > 4.5)\\n            Predict: 3320.481081081081\\n          Else (feature 0 > 2668437.0)\\n           If (feature 2 <= 3.5)\\n            Predict: 3089.7976190476193\\n           Else (feature 2 > 3.5)\\n            Predict: 2329.752314814815\\n       Else (feature 4 > -73.99589920043945)\\n        If (feature 0 <= 1322089.0)\\n         If (feature 2 <= 2.5)\\n          If (feature 1 <= 1.5)\\n           If (feature 4 <= -73.98733901977539)\\n            Predict: 2089.3641304347825\\n           Else (feature 4 > -73.98733901977539)\\n            Predict: 1949.0110294117646\\n          Else (feature 1 > 1.5)\\n           If (feature 4 <= -73.98733901977539)\\n            Predict: 2351.6648648648647\\n           Else (feature 4 > -73.98733901977539)\\n            Predict: 2436.904761904762\\n         Else (feature 2 > 2.5)\\n          If (feature 2 <= 3.5)\\n           If (feature 4 <= -73.98733901977539)\\n            Predict: 2037.095238095238\\n           Else (feature 4 > -73.98733901977539)\\n            Predict: 1722.6556291390727\\n          Else (feature 2 > 3.5)\\n           If (feature 1 <= 1.5)\\n            Predict: 2356.939393939394\\n           Else (feature 1 > 1.5)\\n            Predict: 2010.1522070015221\\n        Else (feature 0 > 1322089.0)\\n         If (feature 1 <= 1.5)\\n          If (feature 2 <= 3.5)\\n           If (feature 2 <= 2.5)\\n            Predict: 2018.4131480491715\\n           Else (feature 2 > 2.5)\\n            Predict: 2118.25641025641\\n          Else (feature 2 > 3.5)\\n           If (feature 4 <= -73.98733901977539)\\n            Predict: 2255.38\\n           Else (feature 4 > -73.98733901977539)\\n            Predict: 2413.7402597402597\\n         Else (feature 1 > 1.5)\\n          If (feature 4 <= -73.98733901977539)\\n           If (feature 0 <= 3303608.0)\\n            Predict: 2052.5758706467664\\n           Else (feature 0 > 3303608.0)\\n            Predict: 1890.0602409638554\\n          Else (feature 4 > -73.98733901977539)\\n           If (feature 0 <= 1994480.0)\\n            Predict: 1706.8926767676767\\n           Else (feature 0 > 1994480.0)\\n            Predict: 1906.2337214316515\\n    Else (feature 4 > -73.97967147827148)\\n     If (feature 0 <= 669424.0)\\n      If (feature 1 <= 1.5)\\n       If (feature 2 <= 1.5)\\n        Predict: 3175.335750139431\\n       Else (feature 2 > 1.5)\\n        If (feature 2 <= 3.5)\\n         If (feature 2 <= 2.5)\\n          Predict: 1579.1863799283153\\n         Else (feature 2 > 2.5)\\n          Predict: 1391.9814814814815\\n        Else (feature 2 > 3.5)\\n         Predict: 2067.3928571428573\\n      Else (feature 1 > 1.5)\\n       If (feature 2 <= 4.5)\\n        If (feature 2 <= 1.5)\\n         Predict: 1535.3395140664961\\n        Else (feature 2 > 1.5)\\n         If (feature 2 <= 2.5)\\n          Predict: 1435.521850899743\\n         Else (feature 2 > 2.5)\\n          If (feature 2 <= 3.5)\\n           Predict: 1289.697247706422\\n          Else (feature 2 > 3.5)\\n           Predict: 1290.921568627451\\n       Else (feature 2 > 4.5)\\n        Predict: 1605.7741176470588\\n     Else (feature 0 > 669424.0)\\n      If (feature 1 <= 1.5)\\n       If (feature 2 <= 1.5)\\n        If (feature 0 <= 2668437.0)\\n         If (feature 0 <= 1322089.0)\\n          Predict: 1211.4956790123456\\n         Else (feature 0 > 1322089.0)\\n          If (feature 0 <= 1994480.0)\\n           Predict: 1219.2479579929989\\n          Else (feature 0 > 1994480.0)\\n           Predict: 1222.2834782608695\\n        Else (feature 0 > 2668437.0)\\n         If (feature 0 <= 3303608.0)\\n          Predict: 1192.8942675159235\\n         Else (feature 0 > 3303608.0)\\n          Predict: 1184.6534492123847\\n       Else (feature 2 > 1.5)\\n        If (feature 2 <= 3.5)\\n         If (feature 2 <= 2.5)\\n          If (feature 0 <= 2668437.0)\\n           If (feature 0 <= 1322089.0)\\n            Predict: 1543.5375939849623\\n           Else (feature 0 > 1322089.0)\\n            Predict: 1535.6396396396397\\n          Else (feature 0 > 2668437.0)\\n           If (feature 0 <= 3303608.0)\\n            Predict: 1465.7388059701493\\n           Else (feature 0 > 3303608.0)\\n            Predict: 1451.131868131868\\n         Else (feature 2 > 2.5)\\n          If (feature 0 <= 2668437.0)\\n           If (feature 0 <= 1994480.0)\\n            Predict: 1326.9391304347826\\n           Else (feature 0 > 1994480.0)\\n            Predict: 1410.581081081081\\n          Else (feature 0 > 2668437.0)\\n           If (feature 0 <= 3303608.0)\\n            Predict: 1574.1698113207547\\n           Else (feature 0 > 3303608.0)\\n            Predict: 1608.2191780821918\\n        Else (feature 2 > 3.5)\\n         If (feature 0 <= 1322089.0)\\n          Predict: 1585.923076923077\\n         Else (feature 0 > 1322089.0)\\n          If (feature 2 <= 4.5)\\n           If (feature 0 <= 1994480.0)\\n            Predict: 1895.1176470588234\\n           Else (feature 0 > 1994480.0)\\n            Predict: 1830.9418604651162\\n          Else (feature 2 > 4.5)\\n           If (feature 0 <= 1994480.0)\\n            Predict: 1988.25\\n           Else (feature 0 > 1994480.0)\\n            Predict: 1392.0\\n      Else (feature 1 > 1.5)\\n       If (feature 0 <= 1994480.0)\\n        If (feature 0 <= 1322089.0)\\n         If (feature 2 <= 1.5)\\n          Predict: 1551.7614980289093\\n         Else (feature 2 > 1.5)\\n          If (feature 2 <= 4.5)\\n           If (feature 2 <= 3.5)\\n            Predict: 1236.8521739130435\\n           Else (feature 2 > 3.5)\\n            Predict: 1053.4202898550725\\n          Else (feature 2 > 4.5)\\n           Predict: 1440.8439153439153\\n        Else (feature 0 > 1322089.0)\\n         If (feature 2 <= 1.5)\\n          Predict: 1291.454273759713\\n         Else (feature 2 > 1.5)\\n          If (feature 2 <= 3.5)\\n           If (feature 2 <= 2.5)\\n            Predict: 1480.9268929503917\\n           Else (feature 2 > 2.5)\\n            Predict: 1332.5689655172414\\n          Else (feature 2 > 3.5)\\n           If (feature 2 <= 4.5)\\n            Predict: 1593.657894736842\\n           Else (feature 2 > 4.5)\\n            Predict: 1528.6689814814815\\n       Else (feature 0 > 1994480.0)\\n        If (feature 2 <= 2.5)\\n         If (feature 2 <= 1.5)\\n          If (feature 0 <= 2668437.0)\\n           Predict: 1597.8826008428657\\n          Else (feature 0 > 2668437.0)\\n           If (feature 0 <= 3303608.0)\\n            Predict: 1463.972602739726\\n           Else (feature 0 > 3303608.0)\\n            Predict: 1461.2105263157894\\n         Else (feature 2 > 1.5)\\n          If (feature 0 <= 2668437.0)\\n           Predict: 1523.633416458853\\n          Else (feature 0 > 2668437.0)\\n           If (feature 0 <= 3303608.0)\\n            Predict: 1979.190735694823\\n           Else (feature 0 > 3303608.0)\\n            Predict: 1541.457894736842\\n        Else (feature 2 > 2.5)\\n         If (feature 2 <= 4.5)\\n          If (feature 0 <= 3303608.0)\\n           If (feature 0 <= 2668437.0)\\n            Predict: 1105.325\\n           Else (feature 0 > 2668437.0)\\n            Predict: 1266.051094890511\\n          Else (feature 0 > 3303608.0)\\n           If (feature 2 <= 3.5)\\n            Predict: 1823.7372881355932\\n           Else (feature 2 > 3.5)\\n            Predict: 1577.4615384615386\\n         Else (feature 2 > 4.5)\\n          If (feature 0 <= 3303608.0)\\n           If (feature 0 <= 2668437.0)\\n            Predict: 1484.4082969432313\\n           Else (feature 0 > 2668437.0)\\n            Predict: 1454.5848563968668\\n          Else (feature 0 > 3303608.0)\\n           Predict: 1289.159645232816\\n   Else (feature 4 > -73.97102737426758)\\n    If (feature 1 <= 1.5)\\n     If (feature 0 <= 1994480.0)\\n      If (feature 0 <= 1322089.0)\\n       If (feature 2 <= 1.5)\\n        If (feature 4 <= -73.95524215698242)\\n         If (feature 0 <= 669424.0)\\n          Predict: 689.5713802435724\\n         Else (feature 0 > 669424.0)\\n          Predict: 712.7999337528983\\n        Else (feature 4 > -73.95524215698242)\\n         If (feature 0 <= 669424.0)\\n          Predict: 772.7355317754968\\n         Else (feature 0 > 669424.0)\\n          If (feature 2 <= 0.5)\\n           Predict: 7.5\\n          Else (feature 2 > 0.5)\\n           Predict: 731.2181489024666\\n       Else (feature 2 > 1.5)\\n        If (feature 2 <= 3.5)\\n         If (feature 4 <= -73.95524215698242)\\n          If (feature 2 <= 2.5)\\n           If (feature 0 <= 669424.0)\\n            Predict: 854.6365546218487\\n           Else (feature 0 > 669424.0)\\n            Predict: 830.2925170068028\\n          Else (feature 2 > 2.5)\\n           If (feature 0 <= 669424.0)\\n            Predict: 818.9159663865546\\n           Else (feature 0 > 669424.0)\\n            Predict: 660.8623853211009\\n         Else (feature 4 > -73.95524215698242)\\n          If (feature 2 <= 2.5)\\n           If (feature 0 <= 669424.0)\\n            Predict: 846.0190735694823\\n           Else (feature 0 > 669424.0)\\n            Predict: 872.8995756718529\\n          Else (feature 2 > 2.5)\\n           If (feature 0 <= 669424.0)\\n            Predict: 913.2171428571429\\n           Else (feature 0 > 669424.0)\\n            Predict: 813.66875\\n        Else (feature 2 > 3.5)\\n         If (feature 4 <= -73.95524215698242)\\n          If (feature 2 <= 4.5)\\n           If (feature 0 <= 669424.0)\\n            Predict: 859.25\\n           Else (feature 0 > 669424.0)\\n            Predict: 954.6486486486486\\n          Else (feature 2 > 4.5)\\n           Predict: 349.0\\n         Else (feature 4 > -73.95524215698242)\\n          If (feature 2 <= 4.5)\\n           If (feature 0 <= 669424.0)\\n            Predict: 1010.3333333333334\\n           Else (feature 0 > 669424.0)\\n            Predict: 923.0727272727273\\n          Else (feature 2 > 4.5)\\n           If (feature 0 <= 669424.0)\\n            Predict: 1850.75\\n           Else (feature 0 > 669424.0)\\n            Predict: 813.4\\n      Else (feature 0 > 1322089.0)\\n       If (feature 4 <= -73.95524215698242)\\n        If (feature 2 <= 1.5)\\n         Predict: 1346.9510190664037\\n        Else (feature 2 > 1.5)\\n         If (feature 2 <= 3.5)\\n          If (feature 2 <= 2.5)\\n           Predict: 829.2857142857143\\n          Else (feature 2 > 2.5)\\n           Predict: 649.6728971962617\\n         Else (feature 2 > 3.5)\\n          If (feature 2 <= 4.5)\\n           Predict: 1056.3863636363637\\n          Else (feature 2 > 4.5)\\n           Predict: 882.0\\n       Else (feature 4 > -73.95524215698242)\\n        If (feature 2 <= 1.5)\\n         If (feature 2 <= 0.5)\\n          Predict: 29.0\\n         Else (feature 2 > 0.5)\\n          Predict: 737.2217839140916\\n        Else (feature 2 > 1.5)\\n         If (feature 2 <= 3.5)\\n          If (feature 2 <= 2.5)\\n           Predict: 918.867418899859\\n          Else (feature 2 > 2.5)\\n           Predict: 986.0421686746988\\n         Else (feature 2 > 3.5)\\n          If (feature 2 <= 4.5)\\n           Predict: 1089.2\\n          Else (feature 2 > 4.5)\\n           Predict: 2359.0\\n     Else (feature 0 > 1994480.0)\\n      If (feature 2 <= 1.5)\\n       If (feature 4 <= -73.95524215698242)\\n        If (feature 0 <= 3303608.0)\\n         If (feature 0 <= 2668437.0)\\n          Predict: 707.4396551724138\\n         Else (feature 0 > 2668437.0)\\n          Predict: 720.3197898423817\\n        Else (feature 0 > 3303608.0)\\n         Predict: 698.1469453376205\\n       Else (feature 4 > -73.95524215698242)\\n        If (feature 0 <= 3303608.0)\\n         If (feature 2 <= 0.5)\\n          Predict: 6.666666666666667\\n         Else (feature 2 > 0.5)\\n          If (feature 0 <= 2668437.0)\\n           Predict: 765.2437158469945\\n          Else (feature 0 > 2668437.0)\\n           Predict: 763.8479399043933\\n        Else (feature 0 > 3303608.0)\\n         If (feature 2 <= 0.5)\\n          Predict: 756.3333333333334\\n         Else (feature 2 > 0.5)\\n          Predict: 731.3359471729261\\n      Else (feature 2 > 1.5)\\n       If (feature 4 <= -73.95524215698242)\\n        If (feature 2 <= 4.5)\\n         If (feature 2 <= 2.5)\\n          If (feature 0 <= 3303608.0)\\n           If (feature 0 <= 2668437.0)\\n            Predict: 780.943793911007\\n           Else (feature 0 > 2668437.0)\\n            Predict: 792.4133949191686\\n          Else (feature 0 > 3303608.0)\\n           Predict: 829.9116379310345\\n         Else (feature 2 > 2.5)\\n          If (feature 2 <= 3.5)\\n           If (feature 0 <= 3303608.0)\\n            Predict: 792.1284403669724\\n           Else (feature 0 > 3303608.0)\\n            Predict: 622.1313131313132\\n          Else (feature 2 > 3.5)\\n           If (feature 0 <= 3303608.0)\\n            Predict: 721.554347826087\\n           Else (feature 0 > 3303608.0)\\n            Predict: 1079.4761904761904\\n        Else (feature 2 > 4.5)\\n         If (feature 0 <= 2668437.0)\\n          Predict: 832.0\\n         Else (feature 0 > 2668437.0)\\n          If (feature 0 <= 3303608.0)\\n           Predict: 1507.0\\n          Else (feature 0 > 3303608.0)\\n           Predict: 1055.25\\n       Else (feature 4 > -73.95524215698242)\\n        If (feature 2 <= 2.5)\\n         If (feature 0 <= 3303608.0)\\n          If (feature 0 <= 2668437.0)\\n           Predict: 888.9417344173442\\n          Else (feature 0 > 2668437.0)\\n           Predict: 889.1189759036145\\n         Else (feature 0 > 3303608.0)\\n          Predict: 893.2764456981664\\n        Else (feature 2 > 2.5)\\n         If (feature 0 <= 2668437.0)\\n          If (feature 2 <= 4.5)\\n           If (feature 2 <= 3.5)\\n            Predict: 897.9929577464789\\n           Else (feature 2 > 3.5)\\n            Predict: 919.8658536585366\\n          Else (feature 2 > 4.5)\\n           Predict: 848.5714285714286\\n         Else (feature 0 > 2668437.0)\\n          If (feature 2 <= 3.5)\\n           If (feature 0 <= 3303608.0)\\n            Predict: 907.1337209302326\\n           Else (feature 0 > 3303608.0)\\n            Predict: 941.9056603773585\\n          Else (feature 2 > 3.5)\\n           If (feature 0 <= 3303608.0)\\n            Predict: 992.9305555555555\\n           Else (feature 0 > 3303608.0)\\n            Predict: 914.7236842105264\\n    Else (feature 1 > 1.5)\\n     If (feature 2 <= 0.5)\\n      If (feature 0 <= 3303608.0)\\n       If (feature 0 <= 1994480.0)\\n        If (feature 0 <= 1322089.0)\\n         If (feature 0 <= 669424.0)\\n          If (feature 4 <= -73.95524215698242)\\n           Predict: 41.0\\n          Else (feature 4 > -73.95524215698242)\\n           Predict: 9.0\\n         Else (feature 0 > 669424.0)\\n          If (feature 4 <= -73.95524215698242)\\n           Predict: 7.0\\n          Else (feature 4 > -73.95524215698242)\\n           Predict: 4.0\\n        Else (feature 0 > 1322089.0)\\n         If (feature 4 <= -73.95524215698242)\\n          Predict: 2.0\\n         Else (feature 4 > -73.95524215698242)\\n          Predict: 43.0\\n       Else (feature 0 > 1994480.0)\\n        Predict: 155.0\\n      Else (feature 0 > 3303608.0)\\n       Predict: 28642.333333333332\\n     Else (feature 2 > 0.5)\\n      If (feature 4 <= -73.95524215698242)\\n       If (feature 0 <= 2668437.0)\\n        If (feature 0 <= 1322089.0)\\n         If (feature 2 <= 2.5)\\n          If (feature 2 <= 1.5)\\n           If (feature 0 <= 669424.0)\\n            Predict: 892.366807205826\\n           Else (feature 0 > 669424.0)\\n            Predict: 865.1369390103567\\n          Else (feature 2 > 1.5)\\n           If (feature 0 <= 669424.0)\\n            Predict: 812.5572755417957\\n           Else (feature 0 > 669424.0)\\n            Predict: 1076.5662251655629\\n         Else (feature 2 > 2.5)\\n          If (feature 2 <= 3.5)\\n           If (feature 0 <= 669424.0)\\n            Predict: 1180.0058479532163\\n           Else (feature 0 > 669424.0)\\n            Predict: 1117.5217391304348\\n          Else (feature 2 > 3.5)\\n           If (feature 2 <= 4.5)\\n            Predict: 753.3649289099526\\n           Else (feature 2 > 4.5)\\n            Predict: 1022.5357933579336\\n        Else (feature 0 > 1322089.0)\\n         If (feature 2 <= 4.5)\\n          If (feature 2 <= 3.5)\\n           If (feature 2 <= 1.5)\\n            Predict: 1016.2627723516154\\n           Else (feature 2 > 1.5)\\n            Predict: 939.9322429906542\\n          Else (feature 2 > 3.5)\\n           If (feature 0 <= 1994480.0)\\n            Predict: 1525.3333333333333\\n           Else (feature 0 > 1994480.0)\\n            Predict: 815.5473684210526\\n         Else (feature 2 > 4.5)\\n          If (feature 0 <= 1994480.0)\\n           Predict: 753.2455621301775\\n          Else (feature 0 > 1994480.0)\\n           Predict: 922.949177877429\\n       Else (feature 0 > 2668437.0)\\n        If (feature 0 <= 3303608.0)\\n         If (feature 2 <= 4.5)\\n          If (feature 2 <= 2.5)\\n           If (feature 2 <= 1.5)\\n            Predict: 841.0347444089457\\n           Else (feature 2 > 1.5)\\n            Predict: 879.6666666666666\\n          Else (feature 2 > 2.5)\\n           If (feature 2 <= 3.5)\\n            Predict: 710.0793650793651\\n           Else (feature 2 > 3.5)\\n            Predict: 830.3384615384615\\n         Else (feature 2 > 4.5)\\n          Predict: 885.2063492063492\\n        Else (feature 0 > 3303608.0)\\n         If (feature 2 <= 2.5)\\n          If (feature 2 <= 1.5)\\n           Predict: 915.5975524475524\\n          Else (feature 2 > 1.5)\\n           Predict: 890.13125\\n         Else (feature 2 > 2.5)\\n          If (feature 2 <= 3.5)\\n           Predict: 1179.8532110091744\\n          Else (feature 2 > 3.5)\\n           If (feature 2 <= 4.5)\\n            Predict: 645.564705882353\\n           Else (feature 2 > 4.5)\\n            Predict: 995.1270860077021\\n      Else (feature 4 > -73.95524215698242)\\n       If (feature 2 <= 4.5)\\n        If (feature 2 <= 3.5)\\n         If (feature 0 <= 1994480.0)\\n          If (feature 2 <= 2.5)\\n           If (feature 2 <= 1.5)\\n            Predict: 1006.690807799443\\n           Else (feature 2 > 1.5)\\n            Predict: 982.6617597858816\\n          Else (feature 2 > 2.5)\\n           If (feature 0 <= 669424.0)\\n            Predict: 1129.6097560975609\\n           Else (feature 0 > 669424.0)\\n            Predict: 800.3194675540766\\n         Else (feature 0 > 1994480.0)\\n          If (feature 0 <= 3303608.0)\\n           If (feature 0 <= 2668437.0)\\n            Predict: 1059.4149573425304\\n           Else (feature 0 > 2668437.0)\\n            Predict: 1154.9861787035234\\n          Else (feature 0 > 3303608.0)\\n           If (feature 2 <= 2.5)\\n            Predict: 993.4582321061483\\n           Else (feature 2 > 2.5)\\n            Predict: 1184.9481707317073\\n        Else (feature 2 > 3.5)\\n         If (feature 0 <= 3303608.0)\\n          If (feature 0 <= 669424.0)\\n           Predict: 845.0583941605839\\n          Else (feature 0 > 669424.0)\\n           If (feature 0 <= 1994480.0)\\n            Predict: 1373.0315789473684\\n           Else (feature 0 > 1994480.0)\\n            Predict: 1076.4724409448818\\n         Else (feature 0 > 3303608.0)\\n          Predict: 1998.587837837838\\n       Else (feature 2 > 4.5)\\n        If (feature 0 <= 1322089.0)\\n         If (feature 0 <= 669424.0)\\n          Predict: 935.1494986326345\\n         Else (feature 0 > 669424.0)\\n          Predict: 846.8779123951538\\n        Else (feature 0 > 1322089.0)\\n         If (feature 0 <= 3303608.0)\\n          If (feature 0 <= 1994480.0)\\n           Predict: 1052.6007393715342\\n          Else (feature 0 > 1994480.0)\\n           If (feature 0 <= 2668437.0)\\n            Predict: 963.2529680365296\\n           Else (feature 0 > 2668437.0)\\n            Predict: 1033.8969578017663\\n         Else (feature 0 > 3303608.0)\\n          Predict: 865.429314830876\\n'"
     ]
    }
   ],
   "source": [
    "model.toDebugString()"
   ]
  },
  {
   "cell_type": "code",
   "execution_count": 10,
   "metadata": {},
   "outputs": [
    {
     "data": {
      "application/vnd.jupyter.widget-view+json": {
       "model_id": "62bce4aed301487cb24b81321b3914d3",
       "version_major": 2,
       "version_minor": 0
      },
      "text/plain": [
       "VBox()"
      ]
     },
     "metadata": {},
     "output_type": "display_data"
    },
    {
     "data": {
      "application/vnd.jupyter.widget-view+json": {
       "model_id": "",
       "version_major": 2,
       "version_minor": 0
      },
      "text/plain": [
       "FloatProgress(value=0.0, bar_style='info', description='Progress:', layout=Layout(height='25px', width='50%'),…"
      ]
     },
     "metadata": {},
     "output_type": "display_data"
    },
    {
     "name": "stdout",
     "output_type": "stream",
     "text": [
      "292331\n",
      "292331"
     ]
    }
   ],
   "source": [
    "from pyspark.mllib.evaluation import RegressionMetrics\n",
    "#predictions = model.predict(testData.foreach(lambda x: print(x)))\n",
    "predictions = model.predict(testData1.map(lambda x: x.features))\n",
    "\n",
    "labels = testData1.map(lambda lp: lp.label)\n",
    "print(len(predictions.collect()))\n",
    "print(len(labels.collect()))\n",
    "#labels = [ s.encode('ascii', 'ignore') for s in labels.collect()]\n",
    "result  = [((lp[0] - lp[1]) * (lp[0] - lp[1])) for lp in zip(labels.collect(),predictions.collect())]\n",
    "#labelsandPredictions = predictions.zip(labels)   291816\n",
    "#print(len(labelsandPredictions.collect()))\n",
    "#labelsAndPredictions = testData1.map(lada lp: lp.label).zip(predictions)\n",
    "#metrics = RegressionMetrics(labelsAndPredictions)\n",
    "#print(metrics.meanSquaredError)\n",
    "#printMetrics(predictions_and_labels)\n",
    "#labelsAndPredictions = testData.map(lambda lp: lp.label).zip(predictions)\n",
    "#print(labelsAndPredictions)\n",
    "#labelsAndPredictions.foreach(lambda x: print(x))"
   ]
  },
  {
   "cell_type": "code",
   "execution_count": null,
   "metadata": {},
   "outputs": [],
   "source": [
    "I got the following result as the Mean square error(MSE) :"
   ]
  },
  {
   "cell_type": "code",
   "execution_count": 16,
   "metadata": {},
   "outputs": [
    {
     "data": {
      "application/vnd.jupyter.widget-view+json": {
       "model_id": "8636595681024acaa38e6c63ca96f779",
       "version_major": 2,
       "version_minor": 0
      },
      "text/plain": [
       "VBox()"
      ]
     },
     "metadata": {},
     "output_type": "display_data"
    },
    {
     "data": {
      "application/vnd.jupyter.widget-view+json": {
       "model_id": "",
       "version_major": 2,
       "version_minor": 0
      },
      "text/plain": [
       "FloatProgress(value=0.0, bar_style='info', description='Progress:', layout=Layout(height='25px', width='50%'),…"
      ]
     },
     "metadata": {},
     "output_type": "display_data"
    },
    {
     "name": "stdout",
     "output_type": "stream",
     "text": [
      "10712028.350182772"
     ]
    }
   ],
   "source": [
    "print(sum(result)/len(testData1.collect()))"
   ]
  },
  {
   "cell_type": "code",
   "execution_count": 17,
   "metadata": {},
   "outputs": [
    {
     "data": {
      "application/vnd.jupyter.widget-view+json": {
       "model_id": "6e4cd00109c84891af617ea9602d88f4",
       "version_major": 2,
       "version_minor": 0
      },
      "text/plain": [
       "VBox()"
      ]
     },
     "metadata": {},
     "output_type": "display_data"
    },
    {
     "data": {
      "application/vnd.jupyter.widget-view+json": {
       "model_id": "",
       "version_major": 2,
       "version_minor": 0
      },
      "text/plain": [
       "FloatProgress(value=0.0, bar_style='info', description='Progress:', layout=Layout(height='25px', width='50%'),…"
      ]
     },
     "metadata": {},
     "output_type": "display_data"
    },
    {
     "name": "stdout",
     "output_type": "stream",
     "text": [
      "292331"
     ]
    }
   ],
   "source": [
    "print(testData1.count())"
   ]
  }
 ],
 "metadata": {
  "kernelspec": {
   "display_name": "PySpark",
   "language": "",
   "name": "pysparkkernel"
  },
  "language_info": {
   "codemirror_mode": {
    "name": "python",
    "version": 2
   },
   "mimetype": "text/x-python",
   "name": "pyspark",
   "pygments_lexer": "python2"
  }
 },
 "nbformat": 4,
 "nbformat_minor": 2
}
